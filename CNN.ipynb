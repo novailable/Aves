{
 "cells": [
  {
   "cell_type": "code",
   "outputs": [],
   "source": [
    "import numpy as np\n",
    "import pandas as pd\n",
    "import tensorflow as tf\n",
    "import matplotlib.image as mpimg\n",
    "import os\n",
    "import random\n",
    "\n",
    "from tensorflow.keras.models import Sequential\n",
    "from tensorflow.keras import layers\n",
    "from tensorflow.keras.models import save_model, load_model\n",
    "from matplotlib import pyplot as plt\n",
    "\n",
    "from pathlib import Path"
   ],
   "metadata": {
    "collapsed": false,
    "ExecuteTime": {
     "end_time": "2024-02-08T00:17:02.754755Z",
     "start_time": "2024-02-08T00:17:02.751040Z"
    }
   },
   "id": "cf85186c4dd8eda",
   "execution_count": 57
  },
  {
   "cell_type": "code",
   "outputs": [],
   "source": [
    "\n",
    "batch_size = 128\n",
    "image_size = (224, 224)\n",
    "seed = 42\n",
    "data_augmentation = True"
   ],
   "metadata": {
    "collapsed": false,
    "ExecuteTime": {
     "end_time": "2024-02-07T19:04:30.415294Z",
     "start_time": "2024-02-07T19:04:30.407584Z"
    }
   },
   "id": "44dfa6e65f87e934",
   "execution_count": 31
  },
  {
   "cell_type": "code",
   "outputs": [
    {
     "data": {
      "text/plain": "       class id                            filepaths                   labels  \\\n0           0.0        train/ABBOTTS BABBLER/001.jpg          ABBOTTS BABBLER   \n1           0.0        train/ABBOTTS BABBLER/007.jpg          ABBOTTS BABBLER   \n2           0.0        train/ABBOTTS BABBLER/008.jpg          ABBOTTS BABBLER   \n3           0.0        train/ABBOTTS BABBLER/009.jpg          ABBOTTS BABBLER   \n4           0.0        train/ABBOTTS BABBLER/002.jpg          ABBOTTS BABBLER   \n...         ...                                  ...                      ...   \n89880     524.0  valid/BLACK BREASTED PUFFBIRD/3.jpg  BLACK BREASTED PUFFBIRD   \n89881     524.0  valid/BLACK BREASTED PUFFBIRD/4.jpg  BLACK BREASTED PUFFBIRD   \n89882     524.0  valid/BLACK BREASTED PUFFBIRD/1.jpg  BLACK BREASTED PUFFBIRD   \n89883     524.0  valid/BLACK BREASTED PUFFBIRD/2.jpg  BLACK BREASTED PUFFBIRD   \n89884     524.0  valid/BLACK BREASTED PUFFBIRD/5.jpg  BLACK BREASTED PUFFBIRD   \n\n      data set        scientific name  \n0        train   MALACOCINCLA ABBOTTI  \n1        train   MALACOCINCLA ABBOTTI  \n2        train   MALACOCINCLA ABBOTTI  \n3        train   MALACOCINCLA ABBOTTI  \n4        train   MALACOCINCLA ABBOTTI  \n...        ...                    ...  \n89880    valid  NOTHARCHUS PECTORALIS  \n89881    valid  NOTHARCHUS PECTORALIS  \n89882    valid  NOTHARCHUS PECTORALIS  \n89883    valid  NOTHARCHUS PECTORALIS  \n89884    valid  NOTHARCHUS PECTORALIS  \n\n[89885 rows x 5 columns]",
      "text/html": "<div>\n<style scoped>\n    .dataframe tbody tr th:only-of-type {\n        vertical-align: middle;\n    }\n\n    .dataframe tbody tr th {\n        vertical-align: top;\n    }\n\n    .dataframe thead th {\n        text-align: right;\n    }\n</style>\n<table border=\"1\" class=\"dataframe\">\n  <thead>\n    <tr style=\"text-align: right;\">\n      <th></th>\n      <th>class id</th>\n      <th>filepaths</th>\n      <th>labels</th>\n      <th>data set</th>\n      <th>scientific name</th>\n    </tr>\n  </thead>\n  <tbody>\n    <tr>\n      <th>0</th>\n      <td>0.0</td>\n      <td>train/ABBOTTS BABBLER/001.jpg</td>\n      <td>ABBOTTS BABBLER</td>\n      <td>train</td>\n      <td>MALACOCINCLA ABBOTTI</td>\n    </tr>\n    <tr>\n      <th>1</th>\n      <td>0.0</td>\n      <td>train/ABBOTTS BABBLER/007.jpg</td>\n      <td>ABBOTTS BABBLER</td>\n      <td>train</td>\n      <td>MALACOCINCLA ABBOTTI</td>\n    </tr>\n    <tr>\n      <th>2</th>\n      <td>0.0</td>\n      <td>train/ABBOTTS BABBLER/008.jpg</td>\n      <td>ABBOTTS BABBLER</td>\n      <td>train</td>\n      <td>MALACOCINCLA ABBOTTI</td>\n    </tr>\n    <tr>\n      <th>3</th>\n      <td>0.0</td>\n      <td>train/ABBOTTS BABBLER/009.jpg</td>\n      <td>ABBOTTS BABBLER</td>\n      <td>train</td>\n      <td>MALACOCINCLA ABBOTTI</td>\n    </tr>\n    <tr>\n      <th>4</th>\n      <td>0.0</td>\n      <td>train/ABBOTTS BABBLER/002.jpg</td>\n      <td>ABBOTTS BABBLER</td>\n      <td>train</td>\n      <td>MALACOCINCLA ABBOTTI</td>\n    </tr>\n    <tr>\n      <th>...</th>\n      <td>...</td>\n      <td>...</td>\n      <td>...</td>\n      <td>...</td>\n      <td>...</td>\n    </tr>\n    <tr>\n      <th>89880</th>\n      <td>524.0</td>\n      <td>valid/BLACK BREASTED PUFFBIRD/3.jpg</td>\n      <td>BLACK BREASTED PUFFBIRD</td>\n      <td>valid</td>\n      <td>NOTHARCHUS PECTORALIS</td>\n    </tr>\n    <tr>\n      <th>89881</th>\n      <td>524.0</td>\n      <td>valid/BLACK BREASTED PUFFBIRD/4.jpg</td>\n      <td>BLACK BREASTED PUFFBIRD</td>\n      <td>valid</td>\n      <td>NOTHARCHUS PECTORALIS</td>\n    </tr>\n    <tr>\n      <th>89882</th>\n      <td>524.0</td>\n      <td>valid/BLACK BREASTED PUFFBIRD/1.jpg</td>\n      <td>BLACK BREASTED PUFFBIRD</td>\n      <td>valid</td>\n      <td>NOTHARCHUS PECTORALIS</td>\n    </tr>\n    <tr>\n      <th>89883</th>\n      <td>524.0</td>\n      <td>valid/BLACK BREASTED PUFFBIRD/2.jpg</td>\n      <td>BLACK BREASTED PUFFBIRD</td>\n      <td>valid</td>\n      <td>NOTHARCHUS PECTORALIS</td>\n    </tr>\n    <tr>\n      <th>89884</th>\n      <td>524.0</td>\n      <td>valid/BLACK BREASTED PUFFBIRD/5.jpg</td>\n      <td>BLACK BREASTED PUFFBIRD</td>\n      <td>valid</td>\n      <td>NOTHARCHUS PECTORALIS</td>\n    </tr>\n  </tbody>\n</table>\n<p>89885 rows × 5 columns</p>\n</div>"
     },
     "execution_count": 3,
     "metadata": {},
     "output_type": "execute_result"
    }
   ],
   "source": [
    "data = pd.read_csv('archive/birds.csv')\n",
    "data"
   ],
   "metadata": {
    "collapsed": false,
    "ExecuteTime": {
     "end_time": "2024-02-07T18:09:54.372365Z",
     "start_time": "2024-02-07T18:09:54.288792Z"
    }
   },
   "id": "964fbabf5fce5936",
   "execution_count": 3
  },
  {
   "cell_type": "code",
   "outputs": [],
   "source": [
    "bird = pd.read_json('aves.birds.json')\n",
    "bird_name = bird['bird_name'].tolist()"
   ],
   "metadata": {
    "collapsed": false,
    "ExecuteTime": {
     "end_time": "2024-02-07T18:11:08.897014Z",
     "start_time": "2024-02-07T18:11:08.887412Z"
    }
   },
   "id": "484fbb64f07ad252",
   "execution_count": 6
  },
  {
   "cell_type": "code",
   "outputs": [
    {
     "data": {
      "text/plain": "       class id                      filepaths           labels data set  \\\n0           0.0  train/ABBOTTS BABBLER/001.jpg  ABBOTTS BABBLER    train   \n1           0.0  train/ABBOTTS BABBLER/007.jpg  ABBOTTS BABBLER    train   \n2           0.0  train/ABBOTTS BABBLER/008.jpg  ABBOTTS BABBLER    train   \n3           0.0  train/ABBOTTS BABBLER/009.jpg  ABBOTTS BABBLER    train   \n4           0.0  train/ABBOTTS BABBLER/002.jpg  ABBOTTS BABBLER    train   \n...         ...                            ...              ...      ...   \n87755      99.0       valid/BLUE MALKOHA/1.jpg     BLUE MALKOHA    valid   \n87756      99.0       valid/BLUE MALKOHA/2.jpg     BLUE MALKOHA    valid   \n87757      99.0       valid/BLUE MALKOHA/3.jpg     BLUE MALKOHA    valid   \n87758      99.0       valid/BLUE MALKOHA/4.jpg     BLUE MALKOHA    valid   \n87759      99.0       valid/BLUE MALKOHA/5.jpg     BLUE MALKOHA    valid   \n\n            scientific name  \n0      MALACOCINCLA ABBOTTI  \n1      MALACOCINCLA ABBOTTI  \n2      MALACOCINCLA ABBOTTI  \n3      MALACOCINCLA ABBOTTI  \n4      MALACOCINCLA ABBOTTI  \n...                     ...  \n87755  CEUTHMOCHARES AEREUS  \n87756  CEUTHMOCHARES AEREUS  \n87757  CEUTHMOCHARES AEREUS  \n87758  CEUTHMOCHARES AEREUS  \n87759  CEUTHMOCHARES AEREUS  \n\n[16747 rows x 5 columns]",
      "text/html": "<div>\n<style scoped>\n    .dataframe tbody tr th:only-of-type {\n        vertical-align: middle;\n    }\n\n    .dataframe tbody tr th {\n        vertical-align: top;\n    }\n\n    .dataframe thead th {\n        text-align: right;\n    }\n</style>\n<table border=\"1\" class=\"dataframe\">\n  <thead>\n    <tr style=\"text-align: right;\">\n      <th></th>\n      <th>class id</th>\n      <th>filepaths</th>\n      <th>labels</th>\n      <th>data set</th>\n      <th>scientific name</th>\n    </tr>\n  </thead>\n  <tbody>\n    <tr>\n      <th>0</th>\n      <td>0.0</td>\n      <td>train/ABBOTTS BABBLER/001.jpg</td>\n      <td>ABBOTTS BABBLER</td>\n      <td>train</td>\n      <td>MALACOCINCLA ABBOTTI</td>\n    </tr>\n    <tr>\n      <th>1</th>\n      <td>0.0</td>\n      <td>train/ABBOTTS BABBLER/007.jpg</td>\n      <td>ABBOTTS BABBLER</td>\n      <td>train</td>\n      <td>MALACOCINCLA ABBOTTI</td>\n    </tr>\n    <tr>\n      <th>2</th>\n      <td>0.0</td>\n      <td>train/ABBOTTS BABBLER/008.jpg</td>\n      <td>ABBOTTS BABBLER</td>\n      <td>train</td>\n      <td>MALACOCINCLA ABBOTTI</td>\n    </tr>\n    <tr>\n      <th>3</th>\n      <td>0.0</td>\n      <td>train/ABBOTTS BABBLER/009.jpg</td>\n      <td>ABBOTTS BABBLER</td>\n      <td>train</td>\n      <td>MALACOCINCLA ABBOTTI</td>\n    </tr>\n    <tr>\n      <th>4</th>\n      <td>0.0</td>\n      <td>train/ABBOTTS BABBLER/002.jpg</td>\n      <td>ABBOTTS BABBLER</td>\n      <td>train</td>\n      <td>MALACOCINCLA ABBOTTI</td>\n    </tr>\n    <tr>\n      <th>...</th>\n      <td>...</td>\n      <td>...</td>\n      <td>...</td>\n      <td>...</td>\n      <td>...</td>\n    </tr>\n    <tr>\n      <th>87755</th>\n      <td>99.0</td>\n      <td>valid/BLUE MALKOHA/1.jpg</td>\n      <td>BLUE MALKOHA</td>\n      <td>valid</td>\n      <td>CEUTHMOCHARES AEREUS</td>\n    </tr>\n    <tr>\n      <th>87756</th>\n      <td>99.0</td>\n      <td>valid/BLUE MALKOHA/2.jpg</td>\n      <td>BLUE MALKOHA</td>\n      <td>valid</td>\n      <td>CEUTHMOCHARES AEREUS</td>\n    </tr>\n    <tr>\n      <th>87757</th>\n      <td>99.0</td>\n      <td>valid/BLUE MALKOHA/3.jpg</td>\n      <td>BLUE MALKOHA</td>\n      <td>valid</td>\n      <td>CEUTHMOCHARES AEREUS</td>\n    </tr>\n    <tr>\n      <th>87758</th>\n      <td>99.0</td>\n      <td>valid/BLUE MALKOHA/4.jpg</td>\n      <td>BLUE MALKOHA</td>\n      <td>valid</td>\n      <td>CEUTHMOCHARES AEREUS</td>\n    </tr>\n    <tr>\n      <th>87759</th>\n      <td>99.0</td>\n      <td>valid/BLUE MALKOHA/5.jpg</td>\n      <td>BLUE MALKOHA</td>\n      <td>valid</td>\n      <td>CEUTHMOCHARES AEREUS</td>\n    </tr>\n  </tbody>\n</table>\n<p>16747 rows × 5 columns</p>\n</div>"
     },
     "execution_count": 12,
     "metadata": {},
     "output_type": "execute_result"
    }
   ],
   "source": [
    "df_filtered = data[data['labels'].isin(bird_name)]\n",
    "df_filtered"
   ],
   "metadata": {
    "collapsed": false,
    "ExecuteTime": {
     "end_time": "2024-02-07T18:16:13.093351Z",
     "start_time": "2024-02-07T18:16:13.082045Z"
    }
   },
   "id": "b788a2707d90636e",
   "execution_count": 12
  },
  {
   "cell_type": "code",
   "outputs": [],
   "source": [
    "df_filtered.loc[:, 'filepaths'] = df_filtered['filepaths'].apply(lambda x: f\"archive/{x}\")"
   ],
   "metadata": {
    "collapsed": false,
    "ExecuteTime": {
     "end_time": "2024-02-07T18:16:15.205573Z",
     "start_time": "2024-02-07T18:16:15.193259Z"
    }
   },
   "id": "ba15866795ca7f91",
   "execution_count": 13
  },
  {
   "cell_type": "code",
   "outputs": [
    {
     "data": {
      "text/plain": "       class id                              filepaths           labels  \\\n0           0.0  archive/train/ABBOTTS BABBLER/001.jpg  ABBOTTS BABBLER   \n1           0.0  archive/train/ABBOTTS BABBLER/007.jpg  ABBOTTS BABBLER   \n2           0.0  archive/train/ABBOTTS BABBLER/008.jpg  ABBOTTS BABBLER   \n3           0.0  archive/train/ABBOTTS BABBLER/009.jpg  ABBOTTS BABBLER   \n4           0.0  archive/train/ABBOTTS BABBLER/002.jpg  ABBOTTS BABBLER   \n...         ...                                    ...              ...   \n87755      99.0       archive/valid/BLUE MALKOHA/1.jpg     BLUE MALKOHA   \n87756      99.0       archive/valid/BLUE MALKOHA/2.jpg     BLUE MALKOHA   \n87757      99.0       archive/valid/BLUE MALKOHA/3.jpg     BLUE MALKOHA   \n87758      99.0       archive/valid/BLUE MALKOHA/4.jpg     BLUE MALKOHA   \n87759      99.0       archive/valid/BLUE MALKOHA/5.jpg     BLUE MALKOHA   \n\n      data set       scientific name  \n0        train  MALACOCINCLA ABBOTTI  \n1        train  MALACOCINCLA ABBOTTI  \n2        train  MALACOCINCLA ABBOTTI  \n3        train  MALACOCINCLA ABBOTTI  \n4        train  MALACOCINCLA ABBOTTI  \n...        ...                   ...  \n87755    valid  CEUTHMOCHARES AEREUS  \n87756    valid  CEUTHMOCHARES AEREUS  \n87757    valid  CEUTHMOCHARES AEREUS  \n87758    valid  CEUTHMOCHARES AEREUS  \n87759    valid  CEUTHMOCHARES AEREUS  \n\n[16747 rows x 5 columns]",
      "text/html": "<div>\n<style scoped>\n    .dataframe tbody tr th:only-of-type {\n        vertical-align: middle;\n    }\n\n    .dataframe tbody tr th {\n        vertical-align: top;\n    }\n\n    .dataframe thead th {\n        text-align: right;\n    }\n</style>\n<table border=\"1\" class=\"dataframe\">\n  <thead>\n    <tr style=\"text-align: right;\">\n      <th></th>\n      <th>class id</th>\n      <th>filepaths</th>\n      <th>labels</th>\n      <th>data set</th>\n      <th>scientific name</th>\n    </tr>\n  </thead>\n  <tbody>\n    <tr>\n      <th>0</th>\n      <td>0.0</td>\n      <td>archive/train/ABBOTTS BABBLER/001.jpg</td>\n      <td>ABBOTTS BABBLER</td>\n      <td>train</td>\n      <td>MALACOCINCLA ABBOTTI</td>\n    </tr>\n    <tr>\n      <th>1</th>\n      <td>0.0</td>\n      <td>archive/train/ABBOTTS BABBLER/007.jpg</td>\n      <td>ABBOTTS BABBLER</td>\n      <td>train</td>\n      <td>MALACOCINCLA ABBOTTI</td>\n    </tr>\n    <tr>\n      <th>2</th>\n      <td>0.0</td>\n      <td>archive/train/ABBOTTS BABBLER/008.jpg</td>\n      <td>ABBOTTS BABBLER</td>\n      <td>train</td>\n      <td>MALACOCINCLA ABBOTTI</td>\n    </tr>\n    <tr>\n      <th>3</th>\n      <td>0.0</td>\n      <td>archive/train/ABBOTTS BABBLER/009.jpg</td>\n      <td>ABBOTTS BABBLER</td>\n      <td>train</td>\n      <td>MALACOCINCLA ABBOTTI</td>\n    </tr>\n    <tr>\n      <th>4</th>\n      <td>0.0</td>\n      <td>archive/train/ABBOTTS BABBLER/002.jpg</td>\n      <td>ABBOTTS BABBLER</td>\n      <td>train</td>\n      <td>MALACOCINCLA ABBOTTI</td>\n    </tr>\n    <tr>\n      <th>...</th>\n      <td>...</td>\n      <td>...</td>\n      <td>...</td>\n      <td>...</td>\n      <td>...</td>\n    </tr>\n    <tr>\n      <th>87755</th>\n      <td>99.0</td>\n      <td>archive/valid/BLUE MALKOHA/1.jpg</td>\n      <td>BLUE MALKOHA</td>\n      <td>valid</td>\n      <td>CEUTHMOCHARES AEREUS</td>\n    </tr>\n    <tr>\n      <th>87756</th>\n      <td>99.0</td>\n      <td>archive/valid/BLUE MALKOHA/2.jpg</td>\n      <td>BLUE MALKOHA</td>\n      <td>valid</td>\n      <td>CEUTHMOCHARES AEREUS</td>\n    </tr>\n    <tr>\n      <th>87757</th>\n      <td>99.0</td>\n      <td>archive/valid/BLUE MALKOHA/3.jpg</td>\n      <td>BLUE MALKOHA</td>\n      <td>valid</td>\n      <td>CEUTHMOCHARES AEREUS</td>\n    </tr>\n    <tr>\n      <th>87758</th>\n      <td>99.0</td>\n      <td>archive/valid/BLUE MALKOHA/4.jpg</td>\n      <td>BLUE MALKOHA</td>\n      <td>valid</td>\n      <td>CEUTHMOCHARES AEREUS</td>\n    </tr>\n    <tr>\n      <th>87759</th>\n      <td>99.0</td>\n      <td>archive/valid/BLUE MALKOHA/5.jpg</td>\n      <td>BLUE MALKOHA</td>\n      <td>valid</td>\n      <td>CEUTHMOCHARES AEREUS</td>\n    </tr>\n  </tbody>\n</table>\n<p>16747 rows × 5 columns</p>\n</div>"
     },
     "execution_count": 14,
     "metadata": {},
     "output_type": "execute_result"
    }
   ],
   "source": [
    "df_filtered"
   ],
   "metadata": {
    "collapsed": false,
    "ExecuteTime": {
     "end_time": "2024-02-07T18:16:16.391503Z",
     "start_time": "2024-02-07T18:16:16.387821Z"
    }
   },
   "id": "ab355dc01cdf2194",
   "execution_count": 14
  },
  {
   "cell_type": "code",
   "outputs": [],
   "source": [
    "train_df = df_filtered[df_filtered['data set'] == 'train']\n",
    "test_df = df_filtered[df_filtered['data set'] == 'test']\n",
    "valid_df = df_filtered[df_filtered['data set'] == 'valid']\n"
   ],
   "metadata": {
    "collapsed": false,
    "ExecuteTime": {
     "end_time": "2024-02-07T18:30:41.931019Z",
     "start_time": "2024-02-07T18:30:41.924241Z"
    }
   },
   "id": "85629c4647e97400",
   "execution_count": 18
  },
  {
   "cell_type": "code",
   "outputs": [],
   "source": [
    "if data_augmentation:\n",
    "    train_generator = tf.keras.preprocessing.image.ImageDataGenerator(\n",
    "        rescale=1./255,\n",
    "        rotation_range=30,\n",
    "        zoom_range=0.15,\n",
    "        horizontal_flip=True\n",
    "    )\n",
    "else:\n",
    "    train_generator = tf.keras.preprocessing.image.ImageDataGenerator(\n",
    "        rescale=1./255\n",
    "    )\n",
    "\n",
    "valid_generator = tf.keras.preprocessing.image.ImageDataGenerator(\n",
    "    rescale=1./255\n",
    ")"
   ],
   "metadata": {
    "collapsed": false,
    "ExecuteTime": {
     "end_time": "2024-02-07T18:37:22.738360Z",
     "start_time": "2024-02-07T18:37:22.733740Z"
    }
   },
   "id": "c4ed35bb4800dc32",
   "execution_count": 22
  },
  {
   "cell_type": "code",
   "outputs": [
    {
     "name": "stdout",
     "output_type": "stream",
     "text": [
      "Found 15747 validated image filenames belonging to 100 classes.\n",
      "Found 500 validated image filenames belonging to 100 classes.\n",
      "Found 500 validated image filenames belonging to 100 classes.\n"
     ]
    }
   ],
   "source": [
    "train_df = train_generator.flow_from_dataframe(\n",
    "    dataframe=train_df,\n",
    "    x_col='filepaths',\n",
    "    y_col='labels',\n",
    "    target_size=image_size,\n",
    "    color_mode='rgb',\n",
    "    class_mode='categorical',\n",
    "    batch_size=batch_size,\n",
    "    shuffle=True,\n",
    "    seed=42\n",
    ")\n",
    "\n",
    "validation_df = valid_generator.flow_from_dataframe(\n",
    "    dataframe=valid_df,\n",
    "    x_col='filepaths',\n",
    "    y_col='labels',\n",
    "    target_size=image_size,\n",
    "    color_mode='rgb',\n",
    "    class_mode='categorical',\n",
    "    batch_size=batch_size,\n",
    "    shuffle=True,\n",
    "    seed=42\n",
    ")\n",
    "\n",
    "test_df = valid_generator.flow_from_dataframe(\n",
    "    dataframe=test_df,\n",
    "    x_col='filepaths',\n",
    "    y_col='labels',\n",
    "    target_size=image_size,\n",
    "    color_mode='rgb',\n",
    "    class_mode='categorical',\n",
    "    batch_size=batch_size,\n",
    "    shuffle=False\n",
    ")"
   ],
   "metadata": {
    "collapsed": false,
    "ExecuteTime": {
     "end_time": "2024-02-07T19:08:41.533070Z",
     "start_time": "2024-02-07T19:08:41.470648Z"
    }
   },
   "id": "dca619c04ffbe898",
   "execution_count": 33
  },
  {
   "cell_type": "code",
   "outputs": [
    {
     "name": "stdout",
     "output_type": "stream",
     "text": [
      "Model: \"sequential_3\"\n",
      "_________________________________________________________________\n",
      " Layer (type)                Output Shape              Param #   \n",
      "=================================================================\n",
      " conv2d_9 (Conv2D)           (None, 224, 224, 16)      448       \n",
      "                                                                 \n",
      " batch_normalization_15 (Ba  (None, 224, 224, 16)      64        \n",
      " tchNormalization)                                               \n",
      "                                                                 \n",
      " max_pooling2d_9 (MaxPoolin  (None, 112, 112, 16)      0         \n",
      " g2D)                                                            \n",
      "                                                                 \n",
      " conv2d_10 (Conv2D)          (None, 112, 112, 32)      4640      \n",
      "                                                                 \n",
      " batch_normalization_16 (Ba  (None, 112, 112, 32)      128       \n",
      " tchNormalization)                                               \n",
      "                                                                 \n",
      " max_pooling2d_10 (MaxPooli  (None, 56, 56, 32)        0         \n",
      " ng2D)                                                           \n",
      "                                                                 \n",
      " conv2d_11 (Conv2D)          (None, 56, 56, 64)        18496     \n",
      "                                                                 \n",
      " batch_normalization_17 (Ba  (None, 56, 56, 64)        256       \n",
      " tchNormalization)                                               \n",
      "                                                                 \n",
      " max_pooling2d_11 (MaxPooli  (None, 28, 28, 64)        0         \n",
      " ng2D)                                                           \n",
      "                                                                 \n",
      " flatten_3 (Flatten)         (None, 50176)             0         \n",
      "                                                                 \n",
      " batch_normalization_18 (Ba  (None, 50176)             200704    \n",
      " tchNormalization)                                               \n",
      "                                                                 \n",
      " dropout_6 (Dropout)         (None, 50176)             0         \n",
      "                                                                 \n",
      " dense_6 (Dense)             (None, 256)               12845312  \n",
      "                                                                 \n",
      " batch_normalization_19 (Ba  (None, 256)               1024      \n",
      " tchNormalization)                                               \n",
      "                                                                 \n",
      " dropout_7 (Dropout)         (None, 256)               0         \n",
      "                                                                 \n",
      " dense_7 (Dense)             (None, 100)               25700     \n",
      "                                                                 \n",
      "=================================================================\n",
      "Total params: 13096772 (49.96 MB)\n",
      "Trainable params: 12995684 (49.57 MB)\n",
      "Non-trainable params: 101088 (394.88 KB)\n",
      "_________________________________________________________________\n"
     ]
    }
   ],
   "source": [
    "def get_model():\n",
    "    model = Sequential()\n",
    "\n",
    "    # Base Model\n",
    "    model.add(layers.Conv2D(filters=16, kernel_size=3, input_shape=(image_size[0], image_size[1], 3), padding='same', activation='relu'))\n",
    "    model.add(layers.BatchNormalization())\n",
    "    model.add(layers.MaxPooling2D(2, padding='same'))\n",
    "\n",
    "    model.add(layers.Conv2D(filters=32, kernel_size=3, padding='same', activation='relu'))\n",
    "    model.add(layers.BatchNormalization())\n",
    "    model.add(layers.MaxPooling2D(2, padding='same'))\n",
    "    \n",
    "    model.add(layers.Conv2D(filters=64, kernel_size=3, padding='same', activation='relu'))\n",
    "    model.add(layers.BatchNormalization())\n",
    "    model.add(layers.MaxPooling2D(2, padding='same'))\n",
    "    \n",
    "    #Top Model\n",
    "    model.add(layers.Flatten())\n",
    "    model.add(layers.BatchNormalization())\n",
    "    model.add(layers.Dropout(0.2))\n",
    "    \n",
    "    model.add(layers.Dense(256))\n",
    "    model.add(layers.BatchNormalization())\n",
    "    model.add(layers.Dropout(0.2))\n",
    "    \n",
    "    model.add(layers.Dense(100, activation='softmax'))\n",
    "\n",
    "    model.summary()\n",
    "    \n",
    "    return model\n",
    "\n",
    "model = get_model()\n"
   ],
   "metadata": {
    "collapsed": false,
    "ExecuteTime": {
     "end_time": "2024-02-07T19:13:33.515178Z",
     "start_time": "2024-02-07T19:13:33.383214Z"
    }
   },
   "id": "fa57c3f99cef878c",
   "execution_count": 41
  },
  {
   "cell_type": "code",
   "outputs": [],
   "source": [
    "checkpoint_path = \"checkpoints\"\n",
    "\n",
    "early_stopping = tf.keras.callbacks.EarlyStopping(\n",
    "    monitor='val_accuracy',\n",
    "    patience=4,\n",
    "    restore_best_weights=True,\n",
    "    verbose=0\n",
    ")\n",
    "\n",
    "model_checkpoint = tf.keras.callbacks.ModelCheckpoint(\n",
    "    checkpoint_path,\n",
    "    monitor=\"val_accuracy\",\n",
    "    save_best_only=True,\n",
    "    verbose=0\n",
    ")"
   ],
   "metadata": {
    "collapsed": false,
    "ExecuteTime": {
     "end_time": "2024-02-07T19:13:34.756425Z",
     "start_time": "2024-02-07T19:13:34.751657Z"
    }
   },
   "id": "34a3963b95227f7f",
   "execution_count": 42
  },
  {
   "cell_type": "code",
   "outputs": [],
   "source": [
    "lr = 0.0015\n",
    "epochs = 15"
   ],
   "metadata": {
    "collapsed": false,
    "ExecuteTime": {
     "end_time": "2024-02-07T19:13:37.287923Z",
     "start_time": "2024-02-07T19:13:37.284225Z"
    }
   },
   "id": "4a6e1abac70ba67c",
   "execution_count": 43
  },
  {
   "cell_type": "code",
   "outputs": [],
   "source": [
    "model.compile(\n",
    "    optimizer = tf.keras.optimizers.legacy.Adam(lr),\n",
    "    loss = 'categorical_crossentropy',\n",
    "    metrics = ['accuracy']\n",
    ")"
   ],
   "metadata": {
    "collapsed": false,
    "ExecuteTime": {
     "end_time": "2024-02-07T19:13:38.225128Z",
     "start_time": "2024-02-07T19:13:38.217150Z"
    }
   },
   "id": "92f8cac7a7f46b09",
   "execution_count": 44
  },
  {
   "cell_type": "code",
   "outputs": [
    {
     "name": "stdout",
     "output_type": "stream",
     "text": [
      "Epoch 1/15\n",
      "124/124 [==============================] - ETA: 0s - loss: 3.3075 - accuracy: 0.2298INFO:tensorflow:Assets written to: checkpoints/assets\n"
     ]
    },
    {
     "name": "stderr",
     "output_type": "stream",
     "text": [
      "INFO:tensorflow:Assets written to: checkpoints/assets\n"
     ]
    },
    {
     "name": "stdout",
     "output_type": "stream",
     "text": [
      "124/124 [==============================] - 166s 1s/step - loss: 3.3075 - accuracy: 0.2298 - val_loss: 6.5461 - val_accuracy: 0.0100\n",
      "Epoch 2/15\n",
      "124/124 [==============================] - ETA: 0s - loss: 2.3338 - accuracy: 0.4112INFO:tensorflow:Assets written to: checkpoints/assets\n"
     ]
    },
    {
     "name": "stderr",
     "output_type": "stream",
     "text": [
      "INFO:tensorflow:Assets written to: checkpoints/assets\n"
     ]
    },
    {
     "name": "stdout",
     "output_type": "stream",
     "text": [
      "124/124 [==============================] - 162s 1s/step - loss: 2.3338 - accuracy: 0.4112 - val_loss: 5.9460 - val_accuracy: 0.0140\n",
      "Epoch 3/15\n",
      "124/124 [==============================] - ETA: 0s - loss: 1.9597 - accuracy: 0.5003INFO:tensorflow:Assets written to: checkpoints/assets\n"
     ]
    },
    {
     "name": "stderr",
     "output_type": "stream",
     "text": [
      "INFO:tensorflow:Assets written to: checkpoints/assets\n"
     ]
    },
    {
     "name": "stdout",
     "output_type": "stream",
     "text": [
      "124/124 [==============================] - 168s 1s/step - loss: 1.9597 - accuracy: 0.5003 - val_loss: 4.6530 - val_accuracy: 0.0640\n",
      "Epoch 4/15\n",
      "124/124 [==============================] - ETA: 0s - loss: 1.7241 - accuracy: 0.5524INFO:tensorflow:Assets written to: checkpoints/assets\n"
     ]
    },
    {
     "name": "stderr",
     "output_type": "stream",
     "text": [
      "INFO:tensorflow:Assets written to: checkpoints/assets\n"
     ]
    },
    {
     "name": "stdout",
     "output_type": "stream",
     "text": [
      "124/124 [==============================] - 165s 1s/step - loss: 1.7241 - accuracy: 0.5524 - val_loss: 3.7880 - val_accuracy: 0.1640\n",
      "Epoch 5/15\n",
      "124/124 [==============================] - ETA: 0s - loss: 1.6935 - accuracy: 0.5617INFO:tensorflow:Assets written to: checkpoints/assets\n"
     ]
    },
    {
     "name": "stderr",
     "output_type": "stream",
     "text": [
      "INFO:tensorflow:Assets written to: checkpoints/assets\n"
     ]
    },
    {
     "name": "stdout",
     "output_type": "stream",
     "text": [
      "124/124 [==============================] - 168s 1s/step - loss: 1.6935 - accuracy: 0.5617 - val_loss: 1.3933 - val_accuracy: 0.6300\n",
      "Epoch 6/15\n",
      "124/124 [==============================] - 209s 2s/step - loss: 1.4370 - accuracy: 0.6206 - val_loss: 11.6814 - val_accuracy: 0.1420\n",
      "Epoch 7/15\n",
      "124/124 [==============================] - 418s 3s/step - loss: 1.5712 - accuracy: 0.5860 - val_loss: 3.0902 - val_accuracy: 0.4360\n",
      "Epoch 8/15\n",
      "124/124 [==============================] - ETA: 0s - loss: 1.3718 - accuracy: 0.6300INFO:tensorflow:Assets written to: checkpoints/assets\n"
     ]
    },
    {
     "name": "stderr",
     "output_type": "stream",
     "text": [
      "INFO:tensorflow:Assets written to: checkpoints/assets\n"
     ]
    },
    {
     "name": "stdout",
     "output_type": "stream",
     "text": [
      "124/124 [==============================] - 414s 3s/step - loss: 1.3718 - accuracy: 0.6300 - val_loss: 1.2837 - val_accuracy: 0.6700\n",
      "Epoch 9/15\n",
      "124/124 [==============================] - 412s 3s/step - loss: 1.3521 - accuracy: 0.6401 - val_loss: 1.3851 - val_accuracy: 0.6700\n",
      "Epoch 10/15\n",
      "124/124 [==============================] - ETA: 0s - loss: 1.3134 - accuracy: 0.6481INFO:tensorflow:Assets written to: checkpoints/assets\n"
     ]
    },
    {
     "name": "stderr",
     "output_type": "stream",
     "text": [
      "INFO:tensorflow:Assets written to: checkpoints/assets\n"
     ]
    },
    {
     "name": "stdout",
     "output_type": "stream",
     "text": [
      "124/124 [==============================] - 412s 3s/step - loss: 1.3134 - accuracy: 0.6481 - val_loss: 1.1116 - val_accuracy: 0.6960\n",
      "Epoch 11/15\n",
      "124/124 [==============================] - 413s 3s/step - loss: 1.1912 - accuracy: 0.6774 - val_loss: 1.2053 - val_accuracy: 0.6640\n",
      "Epoch 12/15\n",
      "124/124 [==============================] - 413s 3s/step - loss: 1.1963 - accuracy: 0.6745 - val_loss: 1.6121 - val_accuracy: 0.5940\n",
      "Epoch 13/15\n",
      "124/124 [==============================] - 418s 3s/step - loss: 1.1824 - accuracy: 0.6818 - val_loss: 1.1930 - val_accuracy: 0.6760\n",
      "Epoch 14/15\n",
      "124/124 [==============================] - ETA: 0s - loss: 1.0854 - accuracy: 0.7034INFO:tensorflow:Assets written to: checkpoints/assets\n"
     ]
    },
    {
     "name": "stderr",
     "output_type": "stream",
     "text": [
      "INFO:tensorflow:Assets written to: checkpoints/assets\n"
     ]
    },
    {
     "name": "stdout",
     "output_type": "stream",
     "text": [
      "124/124 [==============================] - 415s 3s/step - loss: 1.0854 - accuracy: 0.7034 - val_loss: 0.9167 - val_accuracy: 0.7480\n",
      "Epoch 15/15\n",
      "124/124 [==============================] - 412s 3s/step - loss: 1.0061 - accuracy: 0.7239 - val_loss: 2.4203 - val_accuracy: 0.5320\n"
     ]
    }
   ],
   "source": [
    "H = model.fit(\n",
    "    train_df,\n",
    "    epochs=epochs,\n",
    "    validation_data=validation_df,\n",
    "    callbacks=[early_stopping, model_checkpoint]\n",
    ")"
   ],
   "metadata": {
    "collapsed": false,
    "ExecuteTime": {
     "end_time": "2024-02-07T20:33:05.420238Z",
     "start_time": "2024-02-07T19:13:39.363485Z"
    }
   },
   "id": "a75dec42c42151cb",
   "execution_count": 45
  },
  {
   "cell_type": "code",
   "outputs": [
    {
     "name": "stderr",
     "output_type": "stream",
     "text": [
      "/var/folders/4c/f0gh85js6pdgrgj4rj7mkw000000gn/T/ipykernel_84213/3975298713.py:1: UserWarning: You are saving your model as an HDF5 file via `model.save()`. This file format is considered legacy. We recommend using instead the native Keras format, e.g. `model.save('my_model.keras')`.\n",
      "  save_model(model, 'bird_classification_model.h5')\n"
     ]
    }
   ],
   "source": [
    "save_model(model, 'bird_classification_model.h5')"
   ],
   "metadata": {
    "collapsed": false,
    "ExecuteTime": {
     "end_time": "2024-02-07T20:33:05.517240Z",
     "start_time": "2024-02-07T20:33:05.421075Z"
    }
   },
   "id": "376fcf81dfc02156",
   "execution_count": 46
  },
  {
   "cell_type": "code",
   "outputs": [
    {
     "name": "stdout",
     "output_type": "stream",
     "text": [
      "WARNING:tensorflow:6 out of the last 21 calls to <function Model.make_predict_function.<locals>.predict_function at 0x157df8720> triggered tf.function retracing. Tracing is expensive and the excessive number of tracings could be due to (1) creating @tf.function repeatedly in a loop, (2) passing tensors with different shapes, (3) passing Python objects instead of tensors. For (1), please define your @tf.function outside of the loop. For (2), @tf.function has reduce_retracing=True option that can avoid unnecessary retracing. For (3), please refer to https://www.tensorflow.org/guide/function#controlling_retracing and https://www.tensorflow.org/api_docs/python/tf/function for  more details.\n"
     ]
    },
    {
     "name": "stderr",
     "output_type": "stream",
     "text": [
      "WARNING:tensorflow:6 out of the last 21 calls to <function Model.make_predict_function.<locals>.predict_function at 0x157df8720> triggered tf.function retracing. Tracing is expensive and the excessive number of tracings could be due to (1) creating @tf.function repeatedly in a loop, (2) passing tensors with different shapes, (3) passing Python objects instead of tensors. For (1), please define your @tf.function outside of the loop. For (2), @tf.function has reduce_retracing=True option that can avoid unnecessary retracing. For (3), please refer to https://www.tensorflow.org/guide/function#controlling_retracing and https://www.tensorflow.org/api_docs/python/tf/function for  more details.\n"
     ]
    },
    {
     "name": "stdout",
     "output_type": "stream",
     "text": [
      "1/1 [==============================] - 0s 74ms/step\n",
      "Top three predicted bird names and probabilities:\n",
      "ASIAN GREEN BEE EATER: 0.9525\n",
      "AFRICAN EMERALD CUCKOO: 0.0185\n",
      "ALEXANDRINE PARAKEET: 0.0112\n"
     ]
    }
   ],
   "source": [
    "import tensorflow as tf\n",
    "from tensorflow.keras.preprocessing import image\n",
    "import numpy as np\n",
    "\n",
    "# Load the saved model\n",
    "model = tf.keras.models.load_model('bird_classification_model.h5')\n",
    "\n",
    "# Preprocess the input image\n",
    "img_path = 'archive/valid/ASIAN GREEN BEE EATER/2.jpg'\n",
    "img = image.load_img(img_path, target_size=image_size)  # Adjust height and width to match the model's input size\n",
    "img_array = image.img_to_array(img)\n",
    "img_array = np.expand_dims(img_array, axis=0)  # Add batch dimension\n",
    "img_array /= 255.0  # Normalize pixel values\n",
    "\n",
    "# Make predictions\n",
    "predictions = model.predict(img_array)\n",
    "\n",
    "# Print the predicted class probabilities\n",
    "class_list = valid_df['labels'].unique().tolist()\n",
    "top_three_indices = np.argsort(predictions[0])[-3:][::-1]\n",
    "top_three_birds = [(class_list[i], predictions[0][i]) for i in top_three_indices]\n",
    "\n",
    "print(\"Top three predicted bird names and probabilities:\")\n",
    "for bird, probability in top_three_birds:\n",
    "    print(f\"{bird}: {probability:.4f}\")"
   ],
   "metadata": {
    "collapsed": false,
    "ExecuteTime": {
     "end_time": "2024-02-08T08:57:16.134029Z",
     "start_time": "2024-02-08T08:57:15.618371Z"
    }
   },
   "id": "f01733ea799b5131",
   "execution_count": 107
  },
  {
   "cell_type": "code",
   "outputs": [],
   "source": [],
   "metadata": {
    "collapsed": false
   },
   "id": "f058233a71d2fce2"
  }
 ],
 "metadata": {
  "kernelspec": {
   "display_name": "Python 3",
   "language": "python",
   "name": "python3"
  },
  "language_info": {
   "codemirror_mode": {
    "name": "ipython",
    "version": 2
   },
   "file_extension": ".py",
   "mimetype": "text/x-python",
   "name": "python",
   "nbconvert_exporter": "python",
   "pygments_lexer": "ipython2",
   "version": "2.7.6"
  }
 },
 "nbformat": 4,
 "nbformat_minor": 5
}
