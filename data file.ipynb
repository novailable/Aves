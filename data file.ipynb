{
 "cells": [
  {
   "cell_type": "code",
   "execution_count": 73,
   "id": "initial_id",
   "metadata": {
    "collapsed": true,
    "ExecuteTime": {
     "end_time": "2024-02-02T13:36:06.171630Z",
     "start_time": "2024-02-02T13:36:06.167200Z"
    }
   },
   "outputs": [],
   "source": [
    "import pandas as pd"
   ]
  },
  {
   "cell_type": "code",
   "outputs": [
    {
     "data": {
      "text/plain": "       class id                            filepaths                   labels  \\\n0           0.0        train/ABBOTTS BABBLER/001.jpg          ABBOTTS BABBLER   \n1           0.0        train/ABBOTTS BABBLER/007.jpg          ABBOTTS BABBLER   \n2           0.0        train/ABBOTTS BABBLER/008.jpg          ABBOTTS BABBLER   \n3           0.0        train/ABBOTTS BABBLER/009.jpg          ABBOTTS BABBLER   \n4           0.0        train/ABBOTTS BABBLER/002.jpg          ABBOTTS BABBLER   \n...         ...                                  ...                      ...   \n89880     524.0  valid/BLACK BREASTED PUFFBIRD/3.jpg  BLACK BREASTED PUFFBIRD   \n89881     524.0  valid/BLACK BREASTED PUFFBIRD/4.jpg  BLACK BREASTED PUFFBIRD   \n89882     524.0  valid/BLACK BREASTED PUFFBIRD/1.jpg  BLACK BREASTED PUFFBIRD   \n89883     524.0  valid/BLACK BREASTED PUFFBIRD/2.jpg  BLACK BREASTED PUFFBIRD   \n89884     524.0  valid/BLACK BREASTED PUFFBIRD/5.jpg  BLACK BREASTED PUFFBIRD   \n\n      data set        scientific name  \n0        train   MALACOCINCLA ABBOTTI  \n1        train   MALACOCINCLA ABBOTTI  \n2        train   MALACOCINCLA ABBOTTI  \n3        train   MALACOCINCLA ABBOTTI  \n4        train   MALACOCINCLA ABBOTTI  \n...        ...                    ...  \n89880    valid  NOTHARCHUS PECTORALIS  \n89881    valid  NOTHARCHUS PECTORALIS  \n89882    valid  NOTHARCHUS PECTORALIS  \n89883    valid  NOTHARCHUS PECTORALIS  \n89884    valid  NOTHARCHUS PECTORALIS  \n\n[89885 rows x 5 columns]",
      "text/html": "<div>\n<style scoped>\n    .dataframe tbody tr th:only-of-type {\n        vertical-align: middle;\n    }\n\n    .dataframe tbody tr th {\n        vertical-align: top;\n    }\n\n    .dataframe thead th {\n        text-align: right;\n    }\n</style>\n<table border=\"1\" class=\"dataframe\">\n  <thead>\n    <tr style=\"text-align: right;\">\n      <th></th>\n      <th>class id</th>\n      <th>filepaths</th>\n      <th>labels</th>\n      <th>data set</th>\n      <th>scientific name</th>\n    </tr>\n  </thead>\n  <tbody>\n    <tr>\n      <th>0</th>\n      <td>0.0</td>\n      <td>train/ABBOTTS BABBLER/001.jpg</td>\n      <td>ABBOTTS BABBLER</td>\n      <td>train</td>\n      <td>MALACOCINCLA ABBOTTI</td>\n    </tr>\n    <tr>\n      <th>1</th>\n      <td>0.0</td>\n      <td>train/ABBOTTS BABBLER/007.jpg</td>\n      <td>ABBOTTS BABBLER</td>\n      <td>train</td>\n      <td>MALACOCINCLA ABBOTTI</td>\n    </tr>\n    <tr>\n      <th>2</th>\n      <td>0.0</td>\n      <td>train/ABBOTTS BABBLER/008.jpg</td>\n      <td>ABBOTTS BABBLER</td>\n      <td>train</td>\n      <td>MALACOCINCLA ABBOTTI</td>\n    </tr>\n    <tr>\n      <th>3</th>\n      <td>0.0</td>\n      <td>train/ABBOTTS BABBLER/009.jpg</td>\n      <td>ABBOTTS BABBLER</td>\n      <td>train</td>\n      <td>MALACOCINCLA ABBOTTI</td>\n    </tr>\n    <tr>\n      <th>4</th>\n      <td>0.0</td>\n      <td>train/ABBOTTS BABBLER/002.jpg</td>\n      <td>ABBOTTS BABBLER</td>\n      <td>train</td>\n      <td>MALACOCINCLA ABBOTTI</td>\n    </tr>\n    <tr>\n      <th>...</th>\n      <td>...</td>\n      <td>...</td>\n      <td>...</td>\n      <td>...</td>\n      <td>...</td>\n    </tr>\n    <tr>\n      <th>89880</th>\n      <td>524.0</td>\n      <td>valid/BLACK BREASTED PUFFBIRD/3.jpg</td>\n      <td>BLACK BREASTED PUFFBIRD</td>\n      <td>valid</td>\n      <td>NOTHARCHUS PECTORALIS</td>\n    </tr>\n    <tr>\n      <th>89881</th>\n      <td>524.0</td>\n      <td>valid/BLACK BREASTED PUFFBIRD/4.jpg</td>\n      <td>BLACK BREASTED PUFFBIRD</td>\n      <td>valid</td>\n      <td>NOTHARCHUS PECTORALIS</td>\n    </tr>\n    <tr>\n      <th>89882</th>\n      <td>524.0</td>\n      <td>valid/BLACK BREASTED PUFFBIRD/1.jpg</td>\n      <td>BLACK BREASTED PUFFBIRD</td>\n      <td>valid</td>\n      <td>NOTHARCHUS PECTORALIS</td>\n    </tr>\n    <tr>\n      <th>89883</th>\n      <td>524.0</td>\n      <td>valid/BLACK BREASTED PUFFBIRD/2.jpg</td>\n      <td>BLACK BREASTED PUFFBIRD</td>\n      <td>valid</td>\n      <td>NOTHARCHUS PECTORALIS</td>\n    </tr>\n    <tr>\n      <th>89884</th>\n      <td>524.0</td>\n      <td>valid/BLACK BREASTED PUFFBIRD/5.jpg</td>\n      <td>BLACK BREASTED PUFFBIRD</td>\n      <td>valid</td>\n      <td>NOTHARCHUS PECTORALIS</td>\n    </tr>\n  </tbody>\n</table>\n<p>89885 rows × 5 columns</p>\n</div>"
     },
     "execution_count": 74,
     "metadata": {},
     "output_type": "execute_result"
    }
   ],
   "source": [
    "df = pd.read_csv(\"archive/birds.csv\")\n",
    "df"
   ],
   "metadata": {
    "collapsed": false,
    "ExecuteTime": {
     "end_time": "2024-02-02T13:36:06.708244Z",
     "start_time": "2024-02-02T13:36:06.630615Z"
    }
   },
   "id": "36b44c22d36432d9",
   "execution_count": 74
  },
  {
   "cell_type": "code",
   "outputs": [],
   "source": [
    "df.drop(columns=['class id', 'filepaths', 'data set'], inplace=True)"
   ],
   "metadata": {
    "collapsed": false,
    "ExecuteTime": {
     "end_time": "2024-02-02T13:36:07.914654Z",
     "start_time": "2024-02-02T13:36:07.908276Z"
    }
   },
   "id": "796dec992fbe5eaa",
   "execution_count": 75
  },
  {
   "cell_type": "code",
   "outputs": [
    {
     "data": {
      "text/plain": "                        labels        scientific name\n0              ABBOTTS BABBLER   MALACOCINCLA ABBOTTI\n1              ABBOTTS BABBLER   MALACOCINCLA ABBOTTI\n2              ABBOTTS BABBLER   MALACOCINCLA ABBOTTI\n3              ABBOTTS BABBLER   MALACOCINCLA ABBOTTI\n4              ABBOTTS BABBLER   MALACOCINCLA ABBOTTI\n...                        ...                    ...\n89880  BLACK BREASTED PUFFBIRD  NOTHARCHUS PECTORALIS\n89881  BLACK BREASTED PUFFBIRD  NOTHARCHUS PECTORALIS\n89882  BLACK BREASTED PUFFBIRD  NOTHARCHUS PECTORALIS\n89883  BLACK BREASTED PUFFBIRD  NOTHARCHUS PECTORALIS\n89884  BLACK BREASTED PUFFBIRD  NOTHARCHUS PECTORALIS\n\n[89885 rows x 2 columns]",
      "text/html": "<div>\n<style scoped>\n    .dataframe tbody tr th:only-of-type {\n        vertical-align: middle;\n    }\n\n    .dataframe tbody tr th {\n        vertical-align: top;\n    }\n\n    .dataframe thead th {\n        text-align: right;\n    }\n</style>\n<table border=\"1\" class=\"dataframe\">\n  <thead>\n    <tr style=\"text-align: right;\">\n      <th></th>\n      <th>labels</th>\n      <th>scientific name</th>\n    </tr>\n  </thead>\n  <tbody>\n    <tr>\n      <th>0</th>\n      <td>ABBOTTS BABBLER</td>\n      <td>MALACOCINCLA ABBOTTI</td>\n    </tr>\n    <tr>\n      <th>1</th>\n      <td>ABBOTTS BABBLER</td>\n      <td>MALACOCINCLA ABBOTTI</td>\n    </tr>\n    <tr>\n      <th>2</th>\n      <td>ABBOTTS BABBLER</td>\n      <td>MALACOCINCLA ABBOTTI</td>\n    </tr>\n    <tr>\n      <th>3</th>\n      <td>ABBOTTS BABBLER</td>\n      <td>MALACOCINCLA ABBOTTI</td>\n    </tr>\n    <tr>\n      <th>4</th>\n      <td>ABBOTTS BABBLER</td>\n      <td>MALACOCINCLA ABBOTTI</td>\n    </tr>\n    <tr>\n      <th>...</th>\n      <td>...</td>\n      <td>...</td>\n    </tr>\n    <tr>\n      <th>89880</th>\n      <td>BLACK BREASTED PUFFBIRD</td>\n      <td>NOTHARCHUS PECTORALIS</td>\n    </tr>\n    <tr>\n      <th>89881</th>\n      <td>BLACK BREASTED PUFFBIRD</td>\n      <td>NOTHARCHUS PECTORALIS</td>\n    </tr>\n    <tr>\n      <th>89882</th>\n      <td>BLACK BREASTED PUFFBIRD</td>\n      <td>NOTHARCHUS PECTORALIS</td>\n    </tr>\n    <tr>\n      <th>89883</th>\n      <td>BLACK BREASTED PUFFBIRD</td>\n      <td>NOTHARCHUS PECTORALIS</td>\n    </tr>\n    <tr>\n      <th>89884</th>\n      <td>BLACK BREASTED PUFFBIRD</td>\n      <td>NOTHARCHUS PECTORALIS</td>\n    </tr>\n  </tbody>\n</table>\n<p>89885 rows × 2 columns</p>\n</div>"
     },
     "execution_count": 76,
     "metadata": {},
     "output_type": "execute_result"
    }
   ],
   "source": [
    "df"
   ],
   "metadata": {
    "collapsed": false,
    "ExecuteTime": {
     "end_time": "2024-02-02T13:36:08.310407Z",
     "start_time": "2024-02-02T13:36:08.305770Z"
    }
   },
   "id": "15896a384f2737fc",
   "execution_count": 76
  },
  {
   "cell_type": "code",
   "outputs": [],
   "source": [
    "df = df.rename(columns={'labels' : 'birds_name'})"
   ],
   "metadata": {
    "collapsed": false,
    "ExecuteTime": {
     "end_time": "2024-02-02T13:36:08.717378Z",
     "start_time": "2024-02-02T13:36:08.713561Z"
    }
   },
   "id": "8c7b0d5db04a3650",
   "execution_count": 77
  },
  {
   "cell_type": "code",
   "outputs": [
    {
     "data": {
      "text/plain": "                    birds_name        scientific name\n0              ABBOTTS BABBLER   MALACOCINCLA ABBOTTI\n1              ABBOTTS BABBLER   MALACOCINCLA ABBOTTI\n2              ABBOTTS BABBLER   MALACOCINCLA ABBOTTI\n3              ABBOTTS BABBLER   MALACOCINCLA ABBOTTI\n4              ABBOTTS BABBLER   MALACOCINCLA ABBOTTI\n...                        ...                    ...\n89880  BLACK BREASTED PUFFBIRD  NOTHARCHUS PECTORALIS\n89881  BLACK BREASTED PUFFBIRD  NOTHARCHUS PECTORALIS\n89882  BLACK BREASTED PUFFBIRD  NOTHARCHUS PECTORALIS\n89883  BLACK BREASTED PUFFBIRD  NOTHARCHUS PECTORALIS\n89884  BLACK BREASTED PUFFBIRD  NOTHARCHUS PECTORALIS\n\n[89885 rows x 2 columns]",
      "text/html": "<div>\n<style scoped>\n    .dataframe tbody tr th:only-of-type {\n        vertical-align: middle;\n    }\n\n    .dataframe tbody tr th {\n        vertical-align: top;\n    }\n\n    .dataframe thead th {\n        text-align: right;\n    }\n</style>\n<table border=\"1\" class=\"dataframe\">\n  <thead>\n    <tr style=\"text-align: right;\">\n      <th></th>\n      <th>birds_name</th>\n      <th>scientific name</th>\n    </tr>\n  </thead>\n  <tbody>\n    <tr>\n      <th>0</th>\n      <td>ABBOTTS BABBLER</td>\n      <td>MALACOCINCLA ABBOTTI</td>\n    </tr>\n    <tr>\n      <th>1</th>\n      <td>ABBOTTS BABBLER</td>\n      <td>MALACOCINCLA ABBOTTI</td>\n    </tr>\n    <tr>\n      <th>2</th>\n      <td>ABBOTTS BABBLER</td>\n      <td>MALACOCINCLA ABBOTTI</td>\n    </tr>\n    <tr>\n      <th>3</th>\n      <td>ABBOTTS BABBLER</td>\n      <td>MALACOCINCLA ABBOTTI</td>\n    </tr>\n    <tr>\n      <th>4</th>\n      <td>ABBOTTS BABBLER</td>\n      <td>MALACOCINCLA ABBOTTI</td>\n    </tr>\n    <tr>\n      <th>...</th>\n      <td>...</td>\n      <td>...</td>\n    </tr>\n    <tr>\n      <th>89880</th>\n      <td>BLACK BREASTED PUFFBIRD</td>\n      <td>NOTHARCHUS PECTORALIS</td>\n    </tr>\n    <tr>\n      <th>89881</th>\n      <td>BLACK BREASTED PUFFBIRD</td>\n      <td>NOTHARCHUS PECTORALIS</td>\n    </tr>\n    <tr>\n      <th>89882</th>\n      <td>BLACK BREASTED PUFFBIRD</td>\n      <td>NOTHARCHUS PECTORALIS</td>\n    </tr>\n    <tr>\n      <th>89883</th>\n      <td>BLACK BREASTED PUFFBIRD</td>\n      <td>NOTHARCHUS PECTORALIS</td>\n    </tr>\n    <tr>\n      <th>89884</th>\n      <td>BLACK BREASTED PUFFBIRD</td>\n      <td>NOTHARCHUS PECTORALIS</td>\n    </tr>\n  </tbody>\n</table>\n<p>89885 rows × 2 columns</p>\n</div>"
     },
     "execution_count": 78,
     "metadata": {},
     "output_type": "execute_result"
    }
   ],
   "source": [
    "df"
   ],
   "metadata": {
    "collapsed": false,
    "ExecuteTime": {
     "end_time": "2024-02-02T13:36:09.083980Z",
     "start_time": "2024-02-02T13:36:09.078792Z"
    }
   },
   "id": "5bb544788830e7c1",
   "execution_count": 78
  },
  {
   "cell_type": "code",
   "outputs": [],
   "source": [
    "df = df.rename(columns={'scientific name' : 'bird_sci_name', 'birds_name' : 'bird_name'})"
   ],
   "metadata": {
    "collapsed": false,
    "ExecuteTime": {
     "end_time": "2024-02-02T13:36:09.562751Z",
     "start_time": "2024-02-02T13:36:09.559075Z"
    }
   },
   "id": "99f7dbba48644049",
   "execution_count": 79
  },
  {
   "cell_type": "code",
   "outputs": [],
   "source": [
    "new_df = df.drop_duplicates()"
   ],
   "metadata": {
    "collapsed": false,
    "ExecuteTime": {
     "end_time": "2024-02-02T13:36:10.564014Z",
     "start_time": "2024-02-02T13:36:10.548503Z"
    }
   },
   "id": "cebfb435b0afdd6c",
   "execution_count": 80
  },
  {
   "cell_type": "code",
   "outputs": [
    {
     "data": {
      "text/plain": "525"
     },
     "execution_count": 82,
     "metadata": {},
     "output_type": "execute_result"
    }
   ],
   "source": [
    "len(new_df)"
   ],
   "metadata": {
    "collapsed": false,
    "ExecuteTime": {
     "end_time": "2024-02-02T13:36:28.886444Z",
     "start_time": "2024-02-02T13:36:28.879264Z"
    }
   },
   "id": "6bb7ba73a3506669",
   "execution_count": 82
  },
  {
   "cell_type": "code",
   "outputs": [
    {
     "name": "stdout",
     "output_type": "stream",
     "text": [
      "['ABBOTTS BABBLER', 'ABBOTTS BOOBY', 'ABYSSINIAN GROUND HORNBILL', 'AFRICAN CROWNED CRANE', 'AFRICAN EMERALD CUCKOO', 'AFRICAN FIREFINCH', 'AFRICAN OYSTER CATCHER', 'AFRICAN PIED HORNBILL', 'AFRICAN PYGMY GOOSE', 'ALBATROSS', 'ALBERTS TOWHEE', 'ALEXANDRINE PARAKEET', 'ALPINE CHOUGH', 'ALTAMIRA YELLOWTHROAT', 'AMERICAN AVOCET', 'AMERICAN BITTERN', 'AMERICAN COOT', 'AMERICAN FLAMINGO', 'AMERICAN GOLDFINCH', 'AMERICAN KESTREL', 'AMERICAN PIPIT', 'AMERICAN REDSTART', 'AMERICAN ROBIN', 'AMERICAN WIGEON', 'AMETHYST WOODSTAR', 'ANDEAN GOOSE', 'ANDEAN LAPWING', 'ANDEAN SISKIN', 'ANHINGA', 'ANIANIAU', 'ANNAS HUMMINGBIRD', 'ANTBIRD', 'ANTILLEAN EUPHONIA', 'APAPANE', 'APOSTLEBIRD', 'ARARIPE MANAKIN', 'ASHY STORM PETREL', 'ASHY THRUSHBIRD', 'ASIAN CRESTED IBIS', 'ASIAN DOLLARD BIRD', 'ASIAN GREEN BEE EATER', 'ASIAN OPENBILL STORK', 'AUCKLAND SHAQ', 'AUSTRAL CANASTERO', 'AUSTRALASIAN FIGBIRD', 'AVADAVAT', 'AZARAS SPINETAIL', 'AZURE BREASTED PITTA', 'AZURE JAY', 'AZURE TANAGER', 'AZURE TIT', 'BAIKAL TEAL', 'BALD EAGLE', 'BALD IBIS', 'BALI STARLING', 'BALTIMORE ORIOLE', 'BANANAQUIT', 'BAND TAILED GUAN', 'BANDED BROADBILL', 'BANDED PITA', 'BANDED STILT', 'BAR-TAILED GODWIT', 'BARN OWL', 'BARN SWALLOW', 'BARRED PUFFBIRD', 'BARROWS GOLDENEYE', 'BAY-BREASTED WARBLER', 'BEARDED BARBET', 'BEARDED BELLBIRD', 'BEARDED REEDLING', 'BELTED KINGFISHER', 'BIRD OF PARADISE', 'BLACK AND YELLOW BROADBILL', 'BLACK BAZA', 'BLACK COCKATO', 'BLACK FACED SPOONBILL', 'BLACK FRANCOLIN', 'BLACK HEADED CAIQUE', 'BLACK NECKED STILT', 'BLACK SKIMMER', 'BLACK SWAN', 'BLACK TAIL CRAKE', 'BLACK THROATED BUSHTIT', 'BLACK THROATED HUET', 'BLACK THROATED WARBLER', 'BLACK VENTED SHEARWATER', 'BLACK VULTURE', 'BLACK-CAPPED CHICKADEE', 'BLACK-NECKED GREBE', 'BLACK-THROATED SPARROW', 'BLACKBURNIAM WARBLER', 'BLONDE CRESTED WOODPECKER', 'BLOOD PHEASANT', 'BLUE COAU', 'BLUE DACNIS', 'BLUE GRAY GNATCATCHER', 'BLUE GROSBEAK', 'BLUE GROUSE', 'BLUE HERON', 'BLUE MALKOHA', 'BLUE THROATED TOUCANET', 'BOBOLINK', 'BORNEAN BRISTLEHEAD', 'BORNEAN LEAFBIRD', 'BORNEAN PHEASANT', 'BRANDT CORMARANT', 'BREWERS BLACKBIRD', 'BROWN CREPPER', 'BROWN HEADED COWBIRD', 'BROWN NOODY', 'BROWN THRASHER', 'BUFFLEHEAD', 'BULWERS PHEASANT', 'BURCHELLS COURSER', 'BUSH TURKEY', 'CAATINGA CACHOLOTE', 'CABOTS TRAGOPAN', 'CACTUS WREN', 'CALIFORNIA CONDOR', 'CALIFORNIA GULL', 'CALIFORNIA QUAIL', 'CAMPO FLICKER', 'CANARY', 'CANVASBACK', 'CAPE GLOSSY STARLING', 'CAPE LONGCLAW', 'CAPE MAY WARBLER', 'CAPE ROCK THRUSH', 'CAPPED HERON', 'CAPUCHINBIRD', 'CARMINE BEE-EATER', 'CASPIAN TERN', 'CASSOWARY', 'CEDAR WAXWING', 'CERULEAN WARBLER', 'CHARA DE COLLAR', 'CHATTERING LORY', 'CHESTNET BELLIED EUPHONIA', 'CHESTNUT WINGED CUCKOO', 'CHINESE BAMBOO PARTRIDGE', 'CHINESE POND HERON', 'CHIPPING SPARROW', 'CHUCAO TAPACULO', 'CHUKAR PARTRIDGE', 'CINNAMON ATTILA', 'CINNAMON FLYCATCHER', 'CINNAMON TEAL', 'CLARKS GREBE', 'CLARKS NUTCRACKER', 'COCK OF THE  ROCK', 'COCKATOO', 'COLLARED ARACARI', 'COLLARED CRESCENTCHEST', 'COMMON FIRECREST', 'COMMON GRACKLE', 'COMMON HOUSE MARTIN', 'COMMON IORA', 'COMMON LOON', 'COMMON POORWILL', 'COMMON STARLING', 'COPPERSMITH BARBET', 'COPPERY TAILED COUCAL', 'CRAB PLOVER', 'CRANE HAWK', 'CREAM COLORED WOODPECKER', 'CRESTED AUKLET', 'CRESTED CARACARA', 'CRESTED COUA', 'CRESTED FIREBACK', 'CRESTED KINGFISHER', 'CRESTED NUTHATCH', 'CRESTED OROPENDOLA', 'CRESTED SERPENT EAGLE', 'CRESTED SHRIKETIT', 'CRESTED WOOD PARTRIDGE', 'CRIMSON CHAT', 'CRIMSON SUNBIRD', 'CROW', 'CUBAN TODY', 'CUBAN TROGON', 'CURL CRESTED ARACURI', 'D-ARNAUDS BARBET', 'DALMATIAN PELICAN', 'DARJEELING WOODPECKER', 'DARK EYED JUNCO', 'DAURIAN REDSTART', 'DEMOISELLE CRANE', 'DOUBLE BARRED FINCH', 'DOUBLE BRESTED CORMARANT', 'DOUBLE EYED FIG PARROT', 'DOWNY WOODPECKER', 'DUSKY LORY', 'DUSKY ROBIN', 'EARED PITA', 'EASTERN BLUEBIRD', 'EASTERN BLUEBONNET', 'EASTERN GOLDEN WEAVER', 'EASTERN MEADOWLARK', 'EASTERN ROSELLA', 'EASTERN TOWEE', 'EASTERN WIP POOR WILL', 'EASTERN YELLOW ROBIN', 'ECUADORIAN HILLSTAR', 'EGYPTIAN GOOSE', 'ELEGANT TROGON', 'ELLIOTS  PHEASANT', 'EMERALD TANAGER', 'EMPEROR PENGUIN', 'EMU', 'ENGGANO MYNA', 'EURASIAN BULLFINCH', 'EURASIAN GOLDEN ORIOLE', 'EURASIAN MAGPIE', 'EUROPEAN GOLDFINCH', 'EUROPEAN TURTLE DOVE', 'EVENING GROSBEAK', 'FAIRY BLUEBIRD', 'FAIRY PENGUIN', 'FAIRY TERN', 'FAN TAILED WIDOW', 'FASCIATED WREN', 'FIERY MINIVET', 'FIORDLAND PENGUIN', 'FIRE TAILLED MYZORNIS', 'FLAME BOWERBIRD', 'FLAME TANAGER', 'FOREST WAGTAIL', 'FRIGATE', 'FRILL BACK PIGEON', 'GAMBELS QUAIL', 'GANG GANG COCKATOO', 'GILA WOODPECKER', 'GILDED FLICKER', 'GLOSSY IBIS', 'GO AWAY BIRD', 'GOLD WING WARBLER', 'GOLDEN BOWER BIRD', 'GOLDEN CHEEKED WARBLER', 'GOLDEN CHLOROPHONIA', 'GOLDEN EAGLE', 'GOLDEN PARAKEET', 'GOLDEN PHEASANT', 'GOLDEN PIPIT', 'GOULDIAN FINCH', 'GRANDALA', 'GRAY CATBIRD', 'GRAY KINGBIRD', 'GRAY PARTRIDGE', 'GREAT ARGUS', 'GREAT GRAY OWL', 'GREAT JACAMAR', 'GREAT KISKADEE', 'GREAT POTOO', 'GREAT TINAMOU', 'GREAT XENOPS', 'GREATER PEWEE', 'GREATER PRAIRIE CHICKEN', 'GREATOR SAGE GROUSE', 'GREEN BROADBILL', 'GREEN JAY', 'GREEN MAGPIE', 'GREEN WINGED DOVE', 'GREY CUCKOOSHRIKE', 'GREY HEADED FISH EAGLE', 'GREY PLOVER', 'GROVED BILLED ANI', 'GUINEA TURACO', 'GUINEAFOWL', 'GURNEYS PITTA', 'GYRFALCON', 'HAMERKOP', 'HARLEQUIN DUCK', 'HARLEQUIN QUAIL', 'HARPY EAGLE', 'HAWAIIAN GOOSE', 'HAWFINCH', 'HELMET VANGA', 'HEPATIC TANAGER', 'HIMALAYAN BLUETAIL', 'HIMALAYAN MONAL', 'HOATZIN', 'HOODED MERGANSER', 'HOOPOES', 'HORNED GUAN', 'HORNED LARK', 'HORNED SUNGEM', 'HOUSE FINCH', 'HOUSE SPARROW', 'HYACINTH MACAW', 'IBERIAN MAGPIE', 'IBISBILL', 'IMPERIAL SHAQ', 'INCA TERN', 'INDIAN BUSTARD', 'INDIAN PITTA', 'INDIAN ROLLER', 'INDIAN VULTURE', 'INDIGO BUNTING', 'INDIGO FLYCATCHER', 'INLAND DOTTEREL', 'IVORY BILLED ARACARI', 'IVORY GULL', 'IWI', 'JABIRU', 'JACK SNIPE', 'JACOBIN PIGEON', 'JANDAYA PARAKEET', 'JAPANESE ROBIN', 'JAVA SPARROW', 'JOCOTOCO ANTPITTA', 'KAGU', 'KAKAPO', 'KILLDEAR', 'KING EIDER', 'KING VULTURE', 'KIWI', 'KOOKABURRA', 'LARK BUNTING', 'LAUGHING GULL', 'LAZULI BUNTING', 'LESSER ADJUTANT', 'LILAC ROLLER', 'LIMPKIN', 'LITTLE AUK', 'LOGGERHEAD SHRIKE', 'LONG-EARED OWL', 'LOONEY BIRDS', 'LUCIFER HUMMINGBIRD', 'MAGPIE GOOSE', 'MALABAR HORNBILL', 'MALACHITE KINGFISHER', 'MALAGASY WHITE EYE', 'MALEO', 'MALLARD DUCK', 'MANDRIN DUCK', 'MANGROVE CUCKOO', 'MARABOU STORK', 'MASKED BOBWHITE', 'MASKED BOOBY', 'MASKED LAPWING', 'MCKAYS BUNTING', 'MERLIN', 'MIKADO  PHEASANT', 'MILITARY MACAW', 'MOURNING DOVE', 'MYNA', 'NICOBAR PIGEON', 'NOISY FRIARBIRD', 'NORTHERN BEARDLESS TYRANNULET', 'NORTHERN CARDINAL', 'NORTHERN FLICKER', 'NORTHERN FULMAR', 'NORTHERN GANNET', 'NORTHERN GOSHAWK', 'NORTHERN JACANA', 'NORTHERN MOCKINGBIRD', 'NORTHERN PARULA', 'NORTHERN RED BISHOP', 'NORTHERN SHOVELER', 'OCELLATED TURKEY', 'OKINAWA RAIL', 'ORANGE BREASTED TROGON', 'ORANGE BRESTED BUNTING', 'ORIENTAL BAY OWL', 'ORNATE HAWK EAGLE', 'OSPREY', 'OSTRICH', 'OVENBIRD', 'OYSTER CATCHER', 'PAINTED BUNTING', 'PALILA', 'PALM NUT VULTURE', 'PARADISE TANAGER', 'PARAKETT  AKULET', 'PARUS MAJOR', 'PATAGONIAN SIERRA FINCH', 'PEACOCK', 'PEREGRINE FALCON', 'PHAINOPEPLA', 'PHILIPPINE EAGLE', 'PINK ROBIN', 'PLUSH CRESTED JAY', 'POMARINE JAEGER', 'PUFFIN', 'PUNA TEAL', 'PURPLE FINCH', 'PURPLE GALLINULE', 'PURPLE MARTIN', 'PURPLE SWAMPHEN', 'PYGMY KINGFISHER', 'PYRRHULOXIA', 'QUETZAL', 'RAINBOW LORIKEET', 'RAZORBILL', 'RED BEARDED BEE EATER', 'RED BELLIED PITTA', 'RED BILLED TROPICBIRD', 'RED BROWED FINCH', 'RED FACED CORMORANT', 'RED FACED WARBLER', 'RED FODY', 'RED HEADED DUCK', 'RED HEADED WOODPECKER', 'RED KNOT', 'RED LEGGED HONEYCREEPER', 'RED NAPED TROGON', 'RED SHOULDERED HAWK', 'RED TAILED HAWK', 'RED TAILED THRUSH', 'RED WINGED BLACKBIRD', 'RED WISKERED BULBUL', 'REGENT BOWERBIRD', 'RING-NECKED PHEASANT', 'ROADRUNNER', 'ROCK DOVE', 'ROSE BREASTED COCKATOO', 'ROSE BREASTED GROSBEAK', 'ROSEATE SPOONBILL', 'ROSY FACED LOVEBIRD', 'ROUGH LEG BUZZARD', 'ROYAL FLYCATCHER', 'RUBY CROWNED KINGLET', 'RUBY THROATED HUMMINGBIRD', 'RUDDY SHELDUCK', 'RUDY KINGFISHER', 'RUFOUS KINGFISHER', 'RUFOUS TREPE', 'RUFUOS MOTMOT', 'SAMATRAN THRUSH', 'SAND MARTIN', 'SANDHILL CRANE', 'SATYR TRAGOPAN', 'SAYS PHOEBE', 'SCARLET CROWNED FRUIT DOVE', 'SCARLET FACED LIOCICHLA', 'SCARLET IBIS', 'SCARLET MACAW', 'SCARLET TANAGER', 'SHOEBILL', 'SHORT BILLED DOWITCHER', 'SMITHS LONGSPUR', 'SNOW GOOSE', 'SNOW PARTRIDGE', 'SNOWY EGRET', 'SNOWY OWL', 'SNOWY PLOVER', 'SORA', 'SPANGLED COTINGA', 'SPLENDID WREN', 'SPOON BILED SANDPIPER', 'SPOTTED CATBIRD', 'SPOTTED WHISTLING DUCK', 'SQUACCO HERON', 'SRI LANKA BLUE MAGPIE', 'STEAMER DUCK', 'STORK BILLED KINGFISHER', 'STRIATED CARACARA', 'STRIPED OWL', 'STRIPPED MANAKIN', 'STRIPPED SWALLOW', 'SUNBITTERN', 'SUPERB STARLING', 'SURF SCOTER', 'SWINHOES PHEASANT', 'TAILORBIRD', 'TAIWAN MAGPIE', 'TAKAHE', 'TASMANIAN HEN', 'TAWNY FROGMOUTH', 'TEAL DUCK', 'TIT MOUSE', 'TOUCHAN', 'TOWNSENDS WARBLER', 'TREE SWALLOW', 'TRICOLORED BLACKBIRD', 'TROPICAL KINGBIRD', 'TRUMPTER SWAN', 'TURKEY VULTURE', 'TURQUOISE MOTMOT', 'UMBRELLA BIRD', 'VARIED THRUSH', 'VEERY', 'VENEZUELIAN TROUPIAL', 'VERDIN', 'VERMILION FLYCATHER', 'VICTORIA CROWNED PIGEON', 'VIOLET BACKED STARLING', 'VIOLET CUCKOO', 'VIOLET GREEN SWALLOW', 'VIOLET TURACO', 'VISAYAN HORNBILL', 'VULTURINE GUINEAFOWL', 'WALL CREAPER', 'WATTLED CURASSOW', 'WATTLED LAPWING', 'WHIMBREL', 'WHITE BREASTED WATERHEN', 'WHITE BROWED CRAKE', 'WHITE CHEEKED TURACO', 'WHITE CRESTED HORNBILL', 'WHITE EARED HUMMINGBIRD', 'WHITE NECKED RAVEN', 'WHITE TAILED TROPIC', 'WHITE THROATED BEE EATER', 'WILD TURKEY', 'WILLOW PTARMIGAN', 'WILSONS BIRD OF PARADISE', 'WOOD DUCK', 'WOOD THRUSH', 'WOODLAND KINGFISHER', 'WRENTIT', 'YELLOW BELLIED FLOWERPECKER', 'YELLOW CACIQUE', 'YELLOW HEADED BLACKBIRD', 'ZEBRA DOVE', 'YELLOW BREASTED CHAT', 'RED CROSSBILL', 'AMERICAN DIPPER', 'BLUE THROATED PIPING GUAN', 'OILBIRD', 'DUNLIN', 'SNOWY SHEATHBILL', 'KNOB BILLED DUCK', 'GREY HEADED CHACHALACA', 'BLACK BREASTED PUFFBIRD']\n"
     ]
    }
   ],
   "source": [
    "x = new_df['bird_name']\n",
    "x = x.tolist()\n",
    "print(x)"
   ],
   "metadata": {
    "collapsed": false,
    "ExecuteTime": {
     "end_time": "2024-02-02T13:38:17.461239Z",
     "start_time": "2024-02-02T13:38:17.452291Z"
    }
   },
   "id": "474c2b658fb47ed6",
   "execution_count": 87
  },
  {
   "cell_type": "code",
   "outputs": [],
   "source": [
    "new_df.to_csv(\"new_bird_data.csv\", index=False)"
   ],
   "metadata": {
    "collapsed": false,
    "ExecuteTime": {
     "end_time": "2024-01-29T07:31:20.227010Z",
     "start_time": "2024-01-29T07:31:20.205473Z"
    }
   },
   "id": "a0c78a1bc84777c7",
   "execution_count": 31
  },
  {
   "cell_type": "code",
   "outputs": [],
   "source": [
    "new_df1 = pd.read_csv(\"new_bird_data.csv\")"
   ],
   "metadata": {
    "collapsed": false,
    "ExecuteTime": {
     "end_time": "2024-01-29T07:32:03.908705Z",
     "start_time": "2024-01-29T07:32:03.904310Z"
    }
   },
   "id": "326d731098fc0ed2",
   "execution_count": 32
  },
  {
   "cell_type": "code",
   "outputs": [
    {
     "data": {
      "text/plain": "                      bird_name           bird_sci_name\n0               ABBOTTS BABBLER    MALACOCINCLA ABBOTTI\n1                 ABBOTTS BOOBY        PAPASULA ABBOTTI\n2    ABYSSINIAN GROUND HORNBILL    BUCORVUS ABYSSINICUS\n3         AFRICAN CROWNED CRANE     BALEARICA REGULORUM\n4        AFRICAN EMERALD CUCKOO    CHRYSOCOCCYX CUPREUS\n..                          ...                     ...\n520                      DUNLIN         CALIDRIS ALPINA\n521            SNOWY SHEATHBILL           CHIONIS ALBUS\n522            KNOB BILLED DUCK  SARKIDIORNIS MELANOTOS\n523      GREY HEADED CHACHALACA     ORTALIS CINEREICEPS\n524     BLACK BREASTED PUFFBIRD   NOTHARCHUS PECTORALIS\n\n[525 rows x 2 columns]",
      "text/html": "<div>\n<style scoped>\n    .dataframe tbody tr th:only-of-type {\n        vertical-align: middle;\n    }\n\n    .dataframe tbody tr th {\n        vertical-align: top;\n    }\n\n    .dataframe thead th {\n        text-align: right;\n    }\n</style>\n<table border=\"1\" class=\"dataframe\">\n  <thead>\n    <tr style=\"text-align: right;\">\n      <th></th>\n      <th>bird_name</th>\n      <th>bird_sci_name</th>\n    </tr>\n  </thead>\n  <tbody>\n    <tr>\n      <th>0</th>\n      <td>ABBOTTS BABBLER</td>\n      <td>MALACOCINCLA ABBOTTI</td>\n    </tr>\n    <tr>\n      <th>1</th>\n      <td>ABBOTTS BOOBY</td>\n      <td>PAPASULA ABBOTTI</td>\n    </tr>\n    <tr>\n      <th>2</th>\n      <td>ABYSSINIAN GROUND HORNBILL</td>\n      <td>BUCORVUS ABYSSINICUS</td>\n    </tr>\n    <tr>\n      <th>3</th>\n      <td>AFRICAN CROWNED CRANE</td>\n      <td>BALEARICA REGULORUM</td>\n    </tr>\n    <tr>\n      <th>4</th>\n      <td>AFRICAN EMERALD CUCKOO</td>\n      <td>CHRYSOCOCCYX CUPREUS</td>\n    </tr>\n    <tr>\n      <th>...</th>\n      <td>...</td>\n      <td>...</td>\n    </tr>\n    <tr>\n      <th>520</th>\n      <td>DUNLIN</td>\n      <td>CALIDRIS ALPINA</td>\n    </tr>\n    <tr>\n      <th>521</th>\n      <td>SNOWY SHEATHBILL</td>\n      <td>CHIONIS ALBUS</td>\n    </tr>\n    <tr>\n      <th>522</th>\n      <td>KNOB BILLED DUCK</td>\n      <td>SARKIDIORNIS MELANOTOS</td>\n    </tr>\n    <tr>\n      <th>523</th>\n      <td>GREY HEADED CHACHALACA</td>\n      <td>ORTALIS CINEREICEPS</td>\n    </tr>\n    <tr>\n      <th>524</th>\n      <td>BLACK BREASTED PUFFBIRD</td>\n      <td>NOTHARCHUS PECTORALIS</td>\n    </tr>\n  </tbody>\n</table>\n<p>525 rows × 2 columns</p>\n</div>"
     },
     "execution_count": 33,
     "metadata": {},
     "output_type": "execute_result"
    }
   ],
   "source": [
    "new_df1"
   ],
   "metadata": {
    "collapsed": false,
    "ExecuteTime": {
     "end_time": "2024-01-29T07:32:06.960642Z",
     "start_time": "2024-01-29T07:32:06.957279Z"
    }
   },
   "id": "6e8cccc355fbb238",
   "execution_count": 33
  },
  {
   "cell_type": "code",
   "outputs": [
    {
     "data": {
      "text/plain": "                      bird_name           bird_sci_name\n0               ABBOTTS BABBLER    MALACOCINCLA ABBOTTI\n1                 ABBOTTS BOOBY        PAPASULA ABBOTTI\n2    ABYSSINIAN GROUND HORNBILL    BUCORVUS ABYSSINICUS\n3         AFRICAN CROWNED CRANE     BALEARICA REGULORUM\n4        AFRICAN EMERALD CUCKOO    CHRYSOCOCCYX CUPREUS\n..                          ...                     ...\n520                      DUNLIN         CALIDRIS ALPINA\n521            SNOWY SHEATHBILL           CHIONIS ALBUS\n522            KNOB BILLED DUCK  SARKIDIORNIS MELANOTOS\n523      GREY HEADED CHACHALACA     ORTALIS CINEREICEPS\n524     BLACK BREASTED PUFFBIRD   NOTHARCHUS PECTORALIS\n\n[525 rows x 2 columns]",
      "text/html": "<div>\n<style scoped>\n    .dataframe tbody tr th:only-of-type {\n        vertical-align: middle;\n    }\n\n    .dataframe tbody tr th {\n        vertical-align: top;\n    }\n\n    .dataframe thead th {\n        text-align: right;\n    }\n</style>\n<table border=\"1\" class=\"dataframe\">\n  <thead>\n    <tr style=\"text-align: right;\">\n      <th></th>\n      <th>bird_name</th>\n      <th>bird_sci_name</th>\n    </tr>\n  </thead>\n  <tbody>\n    <tr>\n      <th>0</th>\n      <td>ABBOTTS BABBLER</td>\n      <td>MALACOCINCLA ABBOTTI</td>\n    </tr>\n    <tr>\n      <th>1</th>\n      <td>ABBOTTS BOOBY</td>\n      <td>PAPASULA ABBOTTI</td>\n    </tr>\n    <tr>\n      <th>2</th>\n      <td>ABYSSINIAN GROUND HORNBILL</td>\n      <td>BUCORVUS ABYSSINICUS</td>\n    </tr>\n    <tr>\n      <th>3</th>\n      <td>AFRICAN CROWNED CRANE</td>\n      <td>BALEARICA REGULORUM</td>\n    </tr>\n    <tr>\n      <th>4</th>\n      <td>AFRICAN EMERALD CUCKOO</td>\n      <td>CHRYSOCOCCYX CUPREUS</td>\n    </tr>\n    <tr>\n      <th>...</th>\n      <td>...</td>\n      <td>...</td>\n    </tr>\n    <tr>\n      <th>520</th>\n      <td>DUNLIN</td>\n      <td>CALIDRIS ALPINA</td>\n    </tr>\n    <tr>\n      <th>521</th>\n      <td>SNOWY SHEATHBILL</td>\n      <td>CHIONIS ALBUS</td>\n    </tr>\n    <tr>\n      <th>522</th>\n      <td>KNOB BILLED DUCK</td>\n      <td>SARKIDIORNIS MELANOTOS</td>\n    </tr>\n    <tr>\n      <th>523</th>\n      <td>GREY HEADED CHACHALACA</td>\n      <td>ORTALIS CINEREICEPS</td>\n    </tr>\n    <tr>\n      <th>524</th>\n      <td>BLACK BREASTED PUFFBIRD</td>\n      <td>NOTHARCHUS PECTORALIS</td>\n    </tr>\n  </tbody>\n</table>\n<p>525 rows × 2 columns</p>\n</div>"
     },
     "execution_count": 36,
     "metadata": {},
     "output_type": "execute_result"
    }
   ],
   "source": [
    "leng = len(new_df1['bird_name'])\n",
    "df1 = new_df1\n",
    "df1"
   ],
   "metadata": {
    "collapsed": false,
    "ExecuteTime": {
     "end_time": "2024-01-29T08:29:43.475908Z",
     "start_time": "2024-01-29T08:29:43.464493Z"
    }
   },
   "id": "d9b3db1d0e926296",
   "execution_count": 36
  },
  {
   "cell_type": "code",
   "outputs": [
    {
     "data": {
      "text/plain": "                      bird_name           bird_sci_name bird_order\n0               ABBOTTS BABBLER    MALACOCINCLA ABBOTTI      order\n1                 ABBOTTS BOOBY        PAPASULA ABBOTTI      order\n2    ABYSSINIAN GROUND HORNBILL    BUCORVUS ABYSSINICUS      order\n3         AFRICAN CROWNED CRANE     BALEARICA REGULORUM      order\n4        AFRICAN EMERALD CUCKOO    CHRYSOCOCCYX CUPREUS      order\n..                          ...                     ...        ...\n520                      DUNLIN         CALIDRIS ALPINA      order\n521            SNOWY SHEATHBILL           CHIONIS ALBUS      order\n522            KNOB BILLED DUCK  SARKIDIORNIS MELANOTOS      order\n523      GREY HEADED CHACHALACA     ORTALIS CINEREICEPS      order\n524     BLACK BREASTED PUFFBIRD   NOTHARCHUS PECTORALIS      order\n\n[525 rows x 3 columns]",
      "text/html": "<div>\n<style scoped>\n    .dataframe tbody tr th:only-of-type {\n        vertical-align: middle;\n    }\n\n    .dataframe tbody tr th {\n        vertical-align: top;\n    }\n\n    .dataframe thead th {\n        text-align: right;\n    }\n</style>\n<table border=\"1\" class=\"dataframe\">\n  <thead>\n    <tr style=\"text-align: right;\">\n      <th></th>\n      <th>bird_name</th>\n      <th>bird_sci_name</th>\n      <th>bird_order</th>\n    </tr>\n  </thead>\n  <tbody>\n    <tr>\n      <th>0</th>\n      <td>ABBOTTS BABBLER</td>\n      <td>MALACOCINCLA ABBOTTI</td>\n      <td>order</td>\n    </tr>\n    <tr>\n      <th>1</th>\n      <td>ABBOTTS BOOBY</td>\n      <td>PAPASULA ABBOTTI</td>\n      <td>order</td>\n    </tr>\n    <tr>\n      <th>2</th>\n      <td>ABYSSINIAN GROUND HORNBILL</td>\n      <td>BUCORVUS ABYSSINICUS</td>\n      <td>order</td>\n    </tr>\n    <tr>\n      <th>3</th>\n      <td>AFRICAN CROWNED CRANE</td>\n      <td>BALEARICA REGULORUM</td>\n      <td>order</td>\n    </tr>\n    <tr>\n      <th>4</th>\n      <td>AFRICAN EMERALD CUCKOO</td>\n      <td>CHRYSOCOCCYX CUPREUS</td>\n      <td>order</td>\n    </tr>\n    <tr>\n      <th>...</th>\n      <td>...</td>\n      <td>...</td>\n      <td>...</td>\n    </tr>\n    <tr>\n      <th>520</th>\n      <td>DUNLIN</td>\n      <td>CALIDRIS ALPINA</td>\n      <td>order</td>\n    </tr>\n    <tr>\n      <th>521</th>\n      <td>SNOWY SHEATHBILL</td>\n      <td>CHIONIS ALBUS</td>\n      <td>order</td>\n    </tr>\n    <tr>\n      <th>522</th>\n      <td>KNOB BILLED DUCK</td>\n      <td>SARKIDIORNIS MELANOTOS</td>\n      <td>order</td>\n    </tr>\n    <tr>\n      <th>523</th>\n      <td>GREY HEADED CHACHALACA</td>\n      <td>ORTALIS CINEREICEPS</td>\n      <td>order</td>\n    </tr>\n    <tr>\n      <th>524</th>\n      <td>BLACK BREASTED PUFFBIRD</td>\n      <td>NOTHARCHUS PECTORALIS</td>\n      <td>order</td>\n    </tr>\n  </tbody>\n</table>\n<p>525 rows × 3 columns</p>\n</div>"
     },
     "execution_count": 47,
     "metadata": {},
     "output_type": "execute_result"
    }
   ],
   "source": [
    "df1['bird_order'] = ['order'] * leng\n",
    "df1"
   ],
   "metadata": {
    "collapsed": false,
    "ExecuteTime": {
     "end_time": "2024-01-29T08:32:29.413918Z",
     "start_time": "2024-01-29T08:32:29.410428Z"
    }
   },
   "id": "2c0eec7740de750c",
   "execution_count": 47
  },
  {
   "cell_type": "code",
   "outputs": [],
   "source": [
    "df1['bird_family'] = ['family'] * leng\n",
    "df1['bird_color'] = [['#FF0000', '#FFFFFF']] * leng\n",
    "df1['bird_habitat'] = [['habitat', 'habitat1']] * leng\n",
    "df1['bird_char'] = [{'size' : '100 cm', 'wing' : '100 cm', 'weight' : '100 g'}] * leng\n",
    "df1['bird_desc'] = ['description'] * leng\n",
    "df1['bird_distr'] = ['distribution'] * leng\n",
    "df1['bird_eco'] = ['ecology'] * leng\n",
    "df1['bird_img'] = [['img.png', 'img1.png']] * leng\n",
    "df1['bird_scale'] = [1] * leng"
   ],
   "metadata": {
    "collapsed": false,
    "ExecuteTime": {
     "end_time": "2024-01-29T08:51:51.476561Z",
     "start_time": "2024-01-29T08:51:51.470248Z"
    }
   },
   "id": "4b2f43fd52d0e558",
   "execution_count": 64
  },
  {
   "cell_type": "code",
   "outputs": [
    {
     "data": {
      "text/plain": "                      bird_name           bird_sci_name bird_order  \\\n0               ABBOTTS BABBLER    MALACOCINCLA ABBOTTI      order   \n1                 ABBOTTS BOOBY        PAPASULA ABBOTTI      order   \n2    ABYSSINIAN GROUND HORNBILL    BUCORVUS ABYSSINICUS      order   \n3         AFRICAN CROWNED CRANE     BALEARICA REGULORUM      order   \n4        AFRICAN EMERALD CUCKOO    CHRYSOCOCCYX CUPREUS      order   \n..                          ...                     ...        ...   \n520                      DUNLIN         CALIDRIS ALPINA      order   \n521            SNOWY SHEATHBILL           CHIONIS ALBUS      order   \n522            KNOB BILLED DUCK  SARKIDIORNIS MELANOTOS      order   \n523      GREY HEADED CHACHALACA     ORTALIS CINEREICEPS      order   \n524     BLACK BREASTED PUFFBIRD   NOTHARCHUS PECTORALIS      order   \n\n    bird_family          bird_color         bird_habitat  \\\n0        family  [#FF0000, #FFFFFF]  [habitat, habitat1]   \n1        family  [#FF0000, #FFFFFF]  [habitat, habitat1]   \n2        family  [#FF0000, #FFFFFF]  [habitat, habitat1]   \n3        family  [#FF0000, #FFFFFF]  [habitat, habitat1]   \n4        family  [#FF0000, #FFFFFF]  [habitat, habitat1]   \n..          ...                 ...                  ...   \n520      family  [#FF0000, #FFFFFF]  [habitat, habitat1]   \n521      family  [#FF0000, #FFFFFF]  [habitat, habitat1]   \n522      family  [#FF0000, #FFFFFF]  [habitat, habitat1]   \n523      family  [#FF0000, #FFFFFF]  [habitat, habitat1]   \n524      family  [#FF0000, #FFFFFF]  [habitat, habitat1]   \n\n                                             bird_char    bird_desc  \\\n0    {'size': '100 cm', 'wing': '100 cm', 'weight':...  description   \n1    {'size': '100 cm', 'wing': '100 cm', 'weight':...  description   \n2    {'size': '100 cm', 'wing': '100 cm', 'weight':...  description   \n3    {'size': '100 cm', 'wing': '100 cm', 'weight':...  description   \n4    {'size': '100 cm', 'wing': '100 cm', 'weight':...  description   \n..                                                 ...          ...   \n520  {'size': '100 cm', 'wing': '100 cm', 'weight':...  description   \n521  {'size': '100 cm', 'wing': '100 cm', 'weight':...  description   \n522  {'size': '100 cm', 'wing': '100 cm', 'weight':...  description   \n523  {'size': '100 cm', 'wing': '100 cm', 'weight':...  description   \n524  {'size': '100 cm', 'wing': '100 cm', 'weight':...  description   \n\n       bird_distr bird_eco             bird_img  bird_scale  \n0    distribution  ecology  [img.png, img1.png]           1  \n1    distribution  ecology  [img.png, img1.png]           1  \n2    distribution  ecology  [img.png, img1.png]           1  \n3    distribution  ecology  [img.png, img1.png]           1  \n4    distribution  ecology  [img.png, img1.png]           1  \n..            ...      ...                  ...         ...  \n520  distribution  ecology  [img.png, img1.png]           1  \n521  distribution  ecology  [img.png, img1.png]           1  \n522  distribution  ecology  [img.png, img1.png]           1  \n523  distribution  ecology  [img.png, img1.png]           1  \n524  distribution  ecology  [img.png, img1.png]           1  \n\n[525 rows x 12 columns]",
      "text/html": "<div>\n<style scoped>\n    .dataframe tbody tr th:only-of-type {\n        vertical-align: middle;\n    }\n\n    .dataframe tbody tr th {\n        vertical-align: top;\n    }\n\n    .dataframe thead th {\n        text-align: right;\n    }\n</style>\n<table border=\"1\" class=\"dataframe\">\n  <thead>\n    <tr style=\"text-align: right;\">\n      <th></th>\n      <th>bird_name</th>\n      <th>bird_sci_name</th>\n      <th>bird_order</th>\n      <th>bird_family</th>\n      <th>bird_color</th>\n      <th>bird_habitat</th>\n      <th>bird_char</th>\n      <th>bird_desc</th>\n      <th>bird_distr</th>\n      <th>bird_eco</th>\n      <th>bird_img</th>\n      <th>bird_scale</th>\n    </tr>\n  </thead>\n  <tbody>\n    <tr>\n      <th>0</th>\n      <td>ABBOTTS BABBLER</td>\n      <td>MALACOCINCLA ABBOTTI</td>\n      <td>order</td>\n      <td>family</td>\n      <td>[#FF0000, #FFFFFF]</td>\n      <td>[habitat, habitat1]</td>\n      <td>{'size': '100 cm', 'wing': '100 cm', 'weight':...</td>\n      <td>description</td>\n      <td>distribution</td>\n      <td>ecology</td>\n      <td>[img.png, img1.png]</td>\n      <td>1</td>\n    </tr>\n    <tr>\n      <th>1</th>\n      <td>ABBOTTS BOOBY</td>\n      <td>PAPASULA ABBOTTI</td>\n      <td>order</td>\n      <td>family</td>\n      <td>[#FF0000, #FFFFFF]</td>\n      <td>[habitat, habitat1]</td>\n      <td>{'size': '100 cm', 'wing': '100 cm', 'weight':...</td>\n      <td>description</td>\n      <td>distribution</td>\n      <td>ecology</td>\n      <td>[img.png, img1.png]</td>\n      <td>1</td>\n    </tr>\n    <tr>\n      <th>2</th>\n      <td>ABYSSINIAN GROUND HORNBILL</td>\n      <td>BUCORVUS ABYSSINICUS</td>\n      <td>order</td>\n      <td>family</td>\n      <td>[#FF0000, #FFFFFF]</td>\n      <td>[habitat, habitat1]</td>\n      <td>{'size': '100 cm', 'wing': '100 cm', 'weight':...</td>\n      <td>description</td>\n      <td>distribution</td>\n      <td>ecology</td>\n      <td>[img.png, img1.png]</td>\n      <td>1</td>\n    </tr>\n    <tr>\n      <th>3</th>\n      <td>AFRICAN CROWNED CRANE</td>\n      <td>BALEARICA REGULORUM</td>\n      <td>order</td>\n      <td>family</td>\n      <td>[#FF0000, #FFFFFF]</td>\n      <td>[habitat, habitat1]</td>\n      <td>{'size': '100 cm', 'wing': '100 cm', 'weight':...</td>\n      <td>description</td>\n      <td>distribution</td>\n      <td>ecology</td>\n      <td>[img.png, img1.png]</td>\n      <td>1</td>\n    </tr>\n    <tr>\n      <th>4</th>\n      <td>AFRICAN EMERALD CUCKOO</td>\n      <td>CHRYSOCOCCYX CUPREUS</td>\n      <td>order</td>\n      <td>family</td>\n      <td>[#FF0000, #FFFFFF]</td>\n      <td>[habitat, habitat1]</td>\n      <td>{'size': '100 cm', 'wing': '100 cm', 'weight':...</td>\n      <td>description</td>\n      <td>distribution</td>\n      <td>ecology</td>\n      <td>[img.png, img1.png]</td>\n      <td>1</td>\n    </tr>\n    <tr>\n      <th>...</th>\n      <td>...</td>\n      <td>...</td>\n      <td>...</td>\n      <td>...</td>\n      <td>...</td>\n      <td>...</td>\n      <td>...</td>\n      <td>...</td>\n      <td>...</td>\n      <td>...</td>\n      <td>...</td>\n      <td>...</td>\n    </tr>\n    <tr>\n      <th>520</th>\n      <td>DUNLIN</td>\n      <td>CALIDRIS ALPINA</td>\n      <td>order</td>\n      <td>family</td>\n      <td>[#FF0000, #FFFFFF]</td>\n      <td>[habitat, habitat1]</td>\n      <td>{'size': '100 cm', 'wing': '100 cm', 'weight':...</td>\n      <td>description</td>\n      <td>distribution</td>\n      <td>ecology</td>\n      <td>[img.png, img1.png]</td>\n      <td>1</td>\n    </tr>\n    <tr>\n      <th>521</th>\n      <td>SNOWY SHEATHBILL</td>\n      <td>CHIONIS ALBUS</td>\n      <td>order</td>\n      <td>family</td>\n      <td>[#FF0000, #FFFFFF]</td>\n      <td>[habitat, habitat1]</td>\n      <td>{'size': '100 cm', 'wing': '100 cm', 'weight':...</td>\n      <td>description</td>\n      <td>distribution</td>\n      <td>ecology</td>\n      <td>[img.png, img1.png]</td>\n      <td>1</td>\n    </tr>\n    <tr>\n      <th>522</th>\n      <td>KNOB BILLED DUCK</td>\n      <td>SARKIDIORNIS MELANOTOS</td>\n      <td>order</td>\n      <td>family</td>\n      <td>[#FF0000, #FFFFFF]</td>\n      <td>[habitat, habitat1]</td>\n      <td>{'size': '100 cm', 'wing': '100 cm', 'weight':...</td>\n      <td>description</td>\n      <td>distribution</td>\n      <td>ecology</td>\n      <td>[img.png, img1.png]</td>\n      <td>1</td>\n    </tr>\n    <tr>\n      <th>523</th>\n      <td>GREY HEADED CHACHALACA</td>\n      <td>ORTALIS CINEREICEPS</td>\n      <td>order</td>\n      <td>family</td>\n      <td>[#FF0000, #FFFFFF]</td>\n      <td>[habitat, habitat1]</td>\n      <td>{'size': '100 cm', 'wing': '100 cm', 'weight':...</td>\n      <td>description</td>\n      <td>distribution</td>\n      <td>ecology</td>\n      <td>[img.png, img1.png]</td>\n      <td>1</td>\n    </tr>\n    <tr>\n      <th>524</th>\n      <td>BLACK BREASTED PUFFBIRD</td>\n      <td>NOTHARCHUS PECTORALIS</td>\n      <td>order</td>\n      <td>family</td>\n      <td>[#FF0000, #FFFFFF]</td>\n      <td>[habitat, habitat1]</td>\n      <td>{'size': '100 cm', 'wing': '100 cm', 'weight':...</td>\n      <td>description</td>\n      <td>distribution</td>\n      <td>ecology</td>\n      <td>[img.png, img1.png]</td>\n      <td>1</td>\n    </tr>\n  </tbody>\n</table>\n<p>525 rows × 12 columns</p>\n</div>"
     },
     "execution_count": 65,
     "metadata": {},
     "output_type": "execute_result"
    }
   ],
   "source": [
    "df1"
   ],
   "metadata": {
    "collapsed": false,
    "ExecuteTime": {
     "end_time": "2024-01-29T08:51:51.980331Z",
     "start_time": "2024-01-29T08:51:51.975065Z"
    }
   },
   "id": "59ec9e0f8b1606fd",
   "execution_count": 65
  },
  {
   "cell_type": "code",
   "outputs": [],
   "source": [
    "df1.to_json(\"new_bird_data.json\",orient='records', lines=True)"
   ],
   "metadata": {
    "collapsed": false,
    "ExecuteTime": {
     "end_time": "2024-01-29T08:53:17.569423Z",
     "start_time": "2024-01-29T08:53:17.562789Z"
    }
   },
   "id": "ed1e87a6b151677",
   "execution_count": 67
  },
  {
   "cell_type": "code",
   "outputs": [],
   "source": [],
   "metadata": {
    "collapsed": false
   },
   "id": "56d388cddc62cf5a"
  }
 ],
 "metadata": {
  "kernelspec": {
   "display_name": "Python 3",
   "language": "python",
   "name": "python3"
  },
  "language_info": {
   "codemirror_mode": {
    "name": "ipython",
    "version": 2
   },
   "file_extension": ".py",
   "mimetype": "text/x-python",
   "name": "python",
   "nbconvert_exporter": "python",
   "pygments_lexer": "ipython2",
   "version": "2.7.6"
  }
 },
 "nbformat": 4,
 "nbformat_minor": 5
}
